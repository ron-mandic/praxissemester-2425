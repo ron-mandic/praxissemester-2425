{
  "cells": [
    {
      "cell_type": "code",
      "execution_count": 77,
      "metadata": {
        "id": "nKE1Qg_jTFEq"
      },
      "outputs": [],
      "source": [
        "import pandas as pd\n",
        "import numpy as np\n",
        "import matplotlib.pyplot as plt\n",
        "import seaborn as sns\n",
        "import scipy.stats as stats\n",
        "import statsmodels.api as sm\n",
        "from sklearn.linear_model import LinearRegression\n",
        "from sklearn.model_selection import train_test_split"
      ]
    },
    {
      "cell_type": "markdown",
      "metadata": {
        "id": "Xq9rJpPgTIDL"
      },
      "source": [
        "# Loading California Housing Data\n",
        "\n"
      ]
    },
    {
      "cell_type": "code",
      "execution_count": 78,
      "metadata": {
        "id": "5BN9MGl5TVxy"
      },
      "outputs": [],
      "source": [
        "file_path = \"./data/housing.csv\""
      ]
    },
    {
      "cell_type": "code",
      "execution_count": 79,
      "metadata": {
        "id": "zYKiI1xzTeXB"
      },
      "outputs": [],
      "source": [
        "data = pd.read_csv(file_path)"
      ]
    },
    {
      "cell_type": "code",
      "execution_count": 80,
      "metadata": {
        "colab": {
          "base_uri": "https://localhost:8080/"
        },
        "id": "YFDv_G7kVa9U",
        "outputId": "f1a8327a-0c60-4e24-832c-3e4078f2a152"
      },
      "outputs": [
        {
          "data": {
            "text/plain": [
              "Index(['longitude', 'latitude', 'housing_median_age', 'total_rooms',\n",
              "       'total_bedrooms', 'population', 'households', 'median_income',\n",
              "       'median_house_value', 'ocean_proximity'],\n",
              "      dtype='object')"
            ]
          },
          "execution_count": 80,
          "metadata": {},
          "output_type": "execute_result"
        }
      ],
      "source": [
        "data.columns"
      ]
    },
    {
      "cell_type": "code",
      "execution_count": 81,
      "metadata": {
        "colab": {
          "base_uri": "https://localhost:8080/",
          "height": 362
        },
        "id": "RuRoimbpVu-2",
        "outputId": "08d4838e-a097-4430-cb9c-d476fd07b166"
      },
      "outputs": [
        {
          "data": {
            "text/html": [
              "<div>\n",
              "<style scoped>\n",
              "    .dataframe tbody tr th:only-of-type {\n",
              "        vertical-align: middle;\n",
              "    }\n",
              "\n",
              "    .dataframe tbody tr th {\n",
              "        vertical-align: top;\n",
              "    }\n",
              "\n",
              "    .dataframe thead th {\n",
              "        text-align: right;\n",
              "    }\n",
              "</style>\n",
              "<table border=\"1\" class=\"dataframe\">\n",
              "  <thead>\n",
              "    <tr style=\"text-align: right;\">\n",
              "      <th></th>\n",
              "      <th>longitude</th>\n",
              "      <th>latitude</th>\n",
              "      <th>housing_median_age</th>\n",
              "      <th>total_rooms</th>\n",
              "      <th>total_bedrooms</th>\n",
              "      <th>population</th>\n",
              "      <th>households</th>\n",
              "      <th>median_income</th>\n",
              "      <th>median_house_value</th>\n",
              "      <th>ocean_proximity</th>\n",
              "    </tr>\n",
              "  </thead>\n",
              "  <tbody>\n",
              "    <tr>\n",
              "      <th>0</th>\n",
              "      <td>-122.23</td>\n",
              "      <td>37.88</td>\n",
              "      <td>41.0</td>\n",
              "      <td>880.0</td>\n",
              "      <td>129.0</td>\n",
              "      <td>322.0</td>\n",
              "      <td>126.0</td>\n",
              "      <td>8.3252</td>\n",
              "      <td>452600.0</td>\n",
              "      <td>NEAR BAY</td>\n",
              "    </tr>\n",
              "    <tr>\n",
              "      <th>1</th>\n",
              "      <td>-122.22</td>\n",
              "      <td>37.86</td>\n",
              "      <td>21.0</td>\n",
              "      <td>7099.0</td>\n",
              "      <td>1106.0</td>\n",
              "      <td>2401.0</td>\n",
              "      <td>1138.0</td>\n",
              "      <td>8.3014</td>\n",
              "      <td>358500.0</td>\n",
              "      <td>NEAR BAY</td>\n",
              "    </tr>\n",
              "    <tr>\n",
              "      <th>2</th>\n",
              "      <td>-122.24</td>\n",
              "      <td>37.85</td>\n",
              "      <td>52.0</td>\n",
              "      <td>1467.0</td>\n",
              "      <td>190.0</td>\n",
              "      <td>496.0</td>\n",
              "      <td>177.0</td>\n",
              "      <td>7.2574</td>\n",
              "      <td>352100.0</td>\n",
              "      <td>NEAR BAY</td>\n",
              "    </tr>\n",
              "    <tr>\n",
              "      <th>3</th>\n",
              "      <td>-122.25</td>\n",
              "      <td>37.85</td>\n",
              "      <td>52.0</td>\n",
              "      <td>1274.0</td>\n",
              "      <td>235.0</td>\n",
              "      <td>558.0</td>\n",
              "      <td>219.0</td>\n",
              "      <td>5.6431</td>\n",
              "      <td>341300.0</td>\n",
              "      <td>NEAR BAY</td>\n",
              "    </tr>\n",
              "    <tr>\n",
              "      <th>4</th>\n",
              "      <td>-122.25</td>\n",
              "      <td>37.85</td>\n",
              "      <td>52.0</td>\n",
              "      <td>1627.0</td>\n",
              "      <td>280.0</td>\n",
              "      <td>565.0</td>\n",
              "      <td>259.0</td>\n",
              "      <td>3.8462</td>\n",
              "      <td>342200.0</td>\n",
              "      <td>NEAR BAY</td>\n",
              "    </tr>\n",
              "    <tr>\n",
              "      <th>5</th>\n",
              "      <td>-122.25</td>\n",
              "      <td>37.85</td>\n",
              "      <td>52.0</td>\n",
              "      <td>919.0</td>\n",
              "      <td>213.0</td>\n",
              "      <td>413.0</td>\n",
              "      <td>193.0</td>\n",
              "      <td>4.0368</td>\n",
              "      <td>269700.0</td>\n",
              "      <td>NEAR BAY</td>\n",
              "    </tr>\n",
              "    <tr>\n",
              "      <th>6</th>\n",
              "      <td>-122.25</td>\n",
              "      <td>37.84</td>\n",
              "      <td>52.0</td>\n",
              "      <td>2535.0</td>\n",
              "      <td>489.0</td>\n",
              "      <td>1094.0</td>\n",
              "      <td>514.0</td>\n",
              "      <td>3.6591</td>\n",
              "      <td>299200.0</td>\n",
              "      <td>NEAR BAY</td>\n",
              "    </tr>\n",
              "    <tr>\n",
              "      <th>7</th>\n",
              "      <td>-122.25</td>\n",
              "      <td>37.84</td>\n",
              "      <td>52.0</td>\n",
              "      <td>3104.0</td>\n",
              "      <td>687.0</td>\n",
              "      <td>1157.0</td>\n",
              "      <td>647.0</td>\n",
              "      <td>3.1200</td>\n",
              "      <td>241400.0</td>\n",
              "      <td>NEAR BAY</td>\n",
              "    </tr>\n",
              "    <tr>\n",
              "      <th>8</th>\n",
              "      <td>-122.26</td>\n",
              "      <td>37.84</td>\n",
              "      <td>42.0</td>\n",
              "      <td>2555.0</td>\n",
              "      <td>665.0</td>\n",
              "      <td>1206.0</td>\n",
              "      <td>595.0</td>\n",
              "      <td>2.0804</td>\n",
              "      <td>226700.0</td>\n",
              "      <td>NEAR BAY</td>\n",
              "    </tr>\n",
              "    <tr>\n",
              "      <th>9</th>\n",
              "      <td>-122.25</td>\n",
              "      <td>37.84</td>\n",
              "      <td>52.0</td>\n",
              "      <td>3549.0</td>\n",
              "      <td>707.0</td>\n",
              "      <td>1551.0</td>\n",
              "      <td>714.0</td>\n",
              "      <td>3.6912</td>\n",
              "      <td>261100.0</td>\n",
              "      <td>NEAR BAY</td>\n",
              "    </tr>\n",
              "  </tbody>\n",
              "</table>\n",
              "</div>"
            ],
            "text/plain": [
              "   longitude  latitude  housing_median_age  total_rooms  total_bedrooms  \\\n",
              "0    -122.23     37.88                41.0        880.0           129.0   \n",
              "1    -122.22     37.86                21.0       7099.0          1106.0   \n",
              "2    -122.24     37.85                52.0       1467.0           190.0   \n",
              "3    -122.25     37.85                52.0       1274.0           235.0   \n",
              "4    -122.25     37.85                52.0       1627.0           280.0   \n",
              "5    -122.25     37.85                52.0        919.0           213.0   \n",
              "6    -122.25     37.84                52.0       2535.0           489.0   \n",
              "7    -122.25     37.84                52.0       3104.0           687.0   \n",
              "8    -122.26     37.84                42.0       2555.0           665.0   \n",
              "9    -122.25     37.84                52.0       3549.0           707.0   \n",
              "\n",
              "   population  households  median_income  median_house_value ocean_proximity  \n",
              "0       322.0       126.0         8.3252            452600.0        NEAR BAY  \n",
              "1      2401.0      1138.0         8.3014            358500.0        NEAR BAY  \n",
              "2       496.0       177.0         7.2574            352100.0        NEAR BAY  \n",
              "3       558.0       219.0         5.6431            341300.0        NEAR BAY  \n",
              "4       565.0       259.0         3.8462            342200.0        NEAR BAY  \n",
              "5       413.0       193.0         4.0368            269700.0        NEAR BAY  \n",
              "6      1094.0       514.0         3.6591            299200.0        NEAR BAY  \n",
              "7      1157.0       647.0         3.1200            241400.0        NEAR BAY  \n",
              "8      1206.0       595.0         2.0804            226700.0        NEAR BAY  \n",
              "9      1551.0       714.0         3.6912            261100.0        NEAR BAY  "
            ]
          },
          "execution_count": 81,
          "metadata": {},
          "output_type": "execute_result"
        }
      ],
      "source": [
        "data.head(10)"
      ]
    },
    {
      "cell_type": "code",
      "execution_count": 82,
      "metadata": {
        "colab": {
          "base_uri": "https://localhost:8080/"
        },
        "id": "Rz75TtHIbOq9",
        "outputId": "92fecde4-a9b5-4404-ca29-5b7ee540f2d4"
      },
      "outputs": [
        {
          "name": "stdout",
          "output_type": "stream",
          "text": [
            "<class 'pandas.core.frame.DataFrame'>\n",
            "RangeIndex: 20640 entries, 0 to 20639\n",
            "Data columns (total 10 columns):\n",
            " #   Column              Non-Null Count  Dtype  \n",
            "---  ------              --------------  -----  \n",
            " 0   longitude           20640 non-null  float64\n",
            " 1   latitude            20640 non-null  float64\n",
            " 2   housing_median_age  20640 non-null  float64\n",
            " 3   total_rooms         20640 non-null  float64\n",
            " 4   total_bedrooms      20433 non-null  float64\n",
            " 5   population          20640 non-null  float64\n",
            " 6   households          20640 non-null  float64\n",
            " 7   median_income       20640 non-null  float64\n",
            " 8   median_house_value  20640 non-null  float64\n",
            " 9   ocean_proximity     20640 non-null  object \n",
            "dtypes: float64(9), object(1)\n",
            "memory usage: 1.6+ MB\n"
          ]
        }
      ],
      "source": [
        "data.info()"
      ]
    },
    {
      "cell_type": "code",
      "execution_count": 83,
      "metadata": {
        "colab": {
          "base_uri": "https://localhost:8080/"
        },
        "id": "ycYE6eX6G-tJ",
        "outputId": "c9c39235-6146-4a18-9098-65f6fecaa542"
      },
      "outputs": [
        {
          "data": {
            "text/plain": [
              "array(['NEAR BAY', '<1H OCEAN', 'INLAND', 'NEAR OCEAN', 'ISLAND'],\n",
              "      dtype=object)"
            ]
          },
          "execution_count": 83,
          "metadata": {},
          "output_type": "execute_result"
        }
      ],
      "source": [
        "data[\"ocean_proximity\"].unique()"
      ]
    },
    {
      "cell_type": "markdown",
      "metadata": {
        "id": "ECqkQVsdZzfE"
      },
      "source": [
        "# Missing Data Analysis"
      ]
    },
    {
      "cell_type": "code",
      "execution_count": 84,
      "metadata": {
        "colab": {
          "base_uri": "https://localhost:8080/"
        },
        "id": "8WotldcjZ55_",
        "outputId": "1182d2a1-ccf4-4004-d7f7-f7453cd85f25"
      },
      "outputs": [
        {
          "name": "stdout",
          "output_type": "stream",
          "text": [
            "Missing Values in Each Column:\n",
            " longitude               0\n",
            "latitude                0\n",
            "housing_median_age      0\n",
            "total_rooms             0\n",
            "total_bedrooms        207\n",
            "population              0\n",
            "households              0\n",
            "median_income           0\n",
            "median_house_value      0\n",
            "ocean_proximity         0\n",
            "dtype: int64\n",
            "\n",
            "Percentage of Missing Data:\n",
            " longitude             0.000000\n",
            "latitude              0.000000\n",
            "housing_median_age    0.000000\n",
            "total_rooms           0.000000\n",
            "total_bedrooms        1.002907\n",
            "population            0.000000\n",
            "households            0.000000\n",
            "median_income         0.000000\n",
            "median_house_value    0.000000\n",
            "ocean_proximity       0.000000\n",
            "dtype: float64\n"
          ]
        }
      ],
      "source": [
        "# Check for missing values\n",
        "missing_values = data.isnull().sum()\n",
        "\n",
        "# Calculate the percentage of missing data in each column\n",
        "missing_percentage = (missing_values / len(data)) * 100\n",
        "\n",
        "# Display the missing data statistics\n",
        "print(\"Missing Values in Each Column:\\n\", missing_values)\n",
        "print(\"\\nPercentage of Missing Data:\\n\", missing_percentage)"
      ]
    },
    {
      "cell_type": "code",
      "execution_count": 85,
      "metadata": {
        "colab": {
          "base_uri": "https://localhost:8080/"
        },
        "id": "b7pJCcvQaZ6-",
        "outputId": "ded3191c-a434-4da5-83b6-45d0fddca65d"
      },
      "outputs": [
        {
          "name": "stdout",
          "output_type": "stream",
          "text": [
            "\n",
            "Missing values in each column after removal:\n",
            "longitude             0\n",
            "latitude              0\n",
            "housing_median_age    0\n",
            "total_rooms           0\n",
            "total_bedrooms        0\n",
            "population            0\n",
            "households            0\n",
            "median_income         0\n",
            "median_house_value    0\n",
            "ocean_proximity       0\n",
            "dtype: int64\n"
          ]
        }
      ],
      "source": [
        "# Remove rows with missing values\n",
        "data_cleaned = data.dropna()\n",
        "\n",
        "# Verify that missing values have been removed\n",
        "print(\"\\nMissing values in each column after removal:\")\n",
        "print(data_cleaned.isnull().sum())"
      ]
    },
    {
      "cell_type": "markdown",
      "metadata": {
        "id": "7wnfKP0Qc0SI"
      },
      "source": [
        "# Data Exploration and Visualization"
      ]
    },
    {
      "cell_type": "code",
      "execution_count": 86,
      "metadata": {
        "colab": {
          "base_uri": "https://localhost:8080/",
          "height": 300
        },
        "id": "G_gIhfx4dC_i",
        "outputId": "8bf0cb70-b37f-42be-e5a4-8fb0fa389ef4"
      },
      "outputs": [
        {
          "data": {
            "text/html": [
              "<div>\n",
              "<style scoped>\n",
              "    .dataframe tbody tr th:only-of-type {\n",
              "        vertical-align: middle;\n",
              "    }\n",
              "\n",
              "    .dataframe tbody tr th {\n",
              "        vertical-align: top;\n",
              "    }\n",
              "\n",
              "    .dataframe thead th {\n",
              "        text-align: right;\n",
              "    }\n",
              "</style>\n",
              "<table border=\"1\" class=\"dataframe\">\n",
              "  <thead>\n",
              "    <tr style=\"text-align: right;\">\n",
              "      <th></th>\n",
              "      <th>longitude</th>\n",
              "      <th>latitude</th>\n",
              "      <th>housing_median_age</th>\n",
              "      <th>total_rooms</th>\n",
              "      <th>total_bedrooms</th>\n",
              "      <th>population</th>\n",
              "      <th>households</th>\n",
              "      <th>median_income</th>\n",
              "      <th>median_house_value</th>\n",
              "    </tr>\n",
              "  </thead>\n",
              "  <tbody>\n",
              "    <tr>\n",
              "      <th>count</th>\n",
              "      <td>20640.000000</td>\n",
              "      <td>20640.000000</td>\n",
              "      <td>20640.000000</td>\n",
              "      <td>20640.000000</td>\n",
              "      <td>20433.000000</td>\n",
              "      <td>20640.000000</td>\n",
              "      <td>20640.000000</td>\n",
              "      <td>20640.000000</td>\n",
              "      <td>20640.000000</td>\n",
              "    </tr>\n",
              "    <tr>\n",
              "      <th>mean</th>\n",
              "      <td>-119.569704</td>\n",
              "      <td>35.631861</td>\n",
              "      <td>28.639486</td>\n",
              "      <td>2635.763081</td>\n",
              "      <td>537.870553</td>\n",
              "      <td>1425.476744</td>\n",
              "      <td>499.539680</td>\n",
              "      <td>3.870671</td>\n",
              "      <td>206855.816909</td>\n",
              "    </tr>\n",
              "    <tr>\n",
              "      <th>std</th>\n",
              "      <td>2.003532</td>\n",
              "      <td>2.135952</td>\n",
              "      <td>12.585558</td>\n",
              "      <td>2181.615252</td>\n",
              "      <td>421.385070</td>\n",
              "      <td>1132.462122</td>\n",
              "      <td>382.329753</td>\n",
              "      <td>1.899822</td>\n",
              "      <td>115395.615874</td>\n",
              "    </tr>\n",
              "    <tr>\n",
              "      <th>min</th>\n",
              "      <td>-124.350000</td>\n",
              "      <td>32.540000</td>\n",
              "      <td>1.000000</td>\n",
              "      <td>2.000000</td>\n",
              "      <td>1.000000</td>\n",
              "      <td>3.000000</td>\n",
              "      <td>1.000000</td>\n",
              "      <td>0.499900</td>\n",
              "      <td>14999.000000</td>\n",
              "    </tr>\n",
              "    <tr>\n",
              "      <th>25%</th>\n",
              "      <td>-121.800000</td>\n",
              "      <td>33.930000</td>\n",
              "      <td>18.000000</td>\n",
              "      <td>1447.750000</td>\n",
              "      <td>296.000000</td>\n",
              "      <td>787.000000</td>\n",
              "      <td>280.000000</td>\n",
              "      <td>2.563400</td>\n",
              "      <td>119600.000000</td>\n",
              "    </tr>\n",
              "    <tr>\n",
              "      <th>50%</th>\n",
              "      <td>-118.490000</td>\n",
              "      <td>34.260000</td>\n",
              "      <td>29.000000</td>\n",
              "      <td>2127.000000</td>\n",
              "      <td>435.000000</td>\n",
              "      <td>1166.000000</td>\n",
              "      <td>409.000000</td>\n",
              "      <td>3.534800</td>\n",
              "      <td>179700.000000</td>\n",
              "    </tr>\n",
              "    <tr>\n",
              "      <th>75%</th>\n",
              "      <td>-118.010000</td>\n",
              "      <td>37.710000</td>\n",
              "      <td>37.000000</td>\n",
              "      <td>3148.000000</td>\n",
              "      <td>647.000000</td>\n",
              "      <td>1725.000000</td>\n",
              "      <td>605.000000</td>\n",
              "      <td>4.743250</td>\n",
              "      <td>264725.000000</td>\n",
              "    </tr>\n",
              "    <tr>\n",
              "      <th>max</th>\n",
              "      <td>-114.310000</td>\n",
              "      <td>41.950000</td>\n",
              "      <td>52.000000</td>\n",
              "      <td>39320.000000</td>\n",
              "      <td>6445.000000</td>\n",
              "      <td>35682.000000</td>\n",
              "      <td>6082.000000</td>\n",
              "      <td>15.000100</td>\n",
              "      <td>500001.000000</td>\n",
              "    </tr>\n",
              "  </tbody>\n",
              "</table>\n",
              "</div>"
            ],
            "text/plain": [
              "          longitude      latitude  housing_median_age   total_rooms  \\\n",
              "count  20640.000000  20640.000000        20640.000000  20640.000000   \n",
              "mean    -119.569704     35.631861           28.639486   2635.763081   \n",
              "std        2.003532      2.135952           12.585558   2181.615252   \n",
              "min     -124.350000     32.540000            1.000000      2.000000   \n",
              "25%     -121.800000     33.930000           18.000000   1447.750000   \n",
              "50%     -118.490000     34.260000           29.000000   2127.000000   \n",
              "75%     -118.010000     37.710000           37.000000   3148.000000   \n",
              "max     -114.310000     41.950000           52.000000  39320.000000   \n",
              "\n",
              "       total_bedrooms    population    households  median_income  \\\n",
              "count    20433.000000  20640.000000  20640.000000   20640.000000   \n",
              "mean       537.870553   1425.476744    499.539680       3.870671   \n",
              "std        421.385070   1132.462122    382.329753       1.899822   \n",
              "min          1.000000      3.000000      1.000000       0.499900   \n",
              "25%        296.000000    787.000000    280.000000       2.563400   \n",
              "50%        435.000000   1166.000000    409.000000       3.534800   \n",
              "75%        647.000000   1725.000000    605.000000       4.743250   \n",
              "max       6445.000000  35682.000000   6082.000000      15.000100   \n",
              "\n",
              "       median_house_value  \n",
              "count        20640.000000  \n",
              "mean        206855.816909  \n",
              "std         115395.615874  \n",
              "min          14999.000000  \n",
              "25%         119600.000000  \n",
              "50%         179700.000000  \n",
              "75%         264725.000000  \n",
              "max         500001.000000  "
            ]
          },
          "execution_count": 86,
          "metadata": {},
          "output_type": "execute_result"
        }
      ],
      "source": [
        "data.describe()"
      ]
    },
    {
      "cell_type": "code",
      "execution_count": 87,
      "metadata": {
        "colab": {
          "base_uri": "https://localhost:8080/",
          "height": 573
        },
        "id": "1HqOHTSncxwL",
        "outputId": "38c05c69-7694-4637-9f34-3b80ae26616b"
      },
      "outputs": [
        {
          "data": {
            "image/png": "[encoded data removed]",
            "text/plain": [
              "<Figure size 1000x600 with 1 Axes>"
            ]
          },
          "metadata": {},
          "output_type": "display_data"
        }
      ],
      "source": [
        "sns.set(style=\"whitegrid\")\n",
        "plt.figure(figsize=(10, 6))\n",
        "sns.histplot(data_cleaned['median_house_value'], color='forestgreen', kde=True)\n",
        "plt.title('Distribution of Median House Values')\n",
        "plt.xlabel('Median House Value')\n",
        "plt.ylabel('Frequency')\n",
        "plt.show()"
      ]
    },
    {
      "cell_type": "markdown",
      "metadata": {
        "id": "Y9hAjP6mfayq"
      },
      "source": [
        "## Using InterQualtile Range to Remove Outliers\n",
        "\n",
        "> Indented block\n",
        "\n"
      ]
    },
    {
      "cell_type": "code",
      "execution_count": 88,
      "metadata": {
        "colab": {
          "base_uri": "https://localhost:8080/"
        },
        "id": "ovtiFOb5fq0O",
        "outputId": "2ab21715-2843-4f8d-bc4d-16a3910252cc"
      },
      "outputs": [
        {
          "name": "stdout",
          "output_type": "stream",
          "text": [
            "119500.0\n",
            "264700.0\n",
            "Original data shape: (20433, 10)\n",
            "New data shape without outliers: (19369, 10)\n"
          ]
        }
      ],
      "source": [
        "# Assuming 'data' is your DataFrame and 'median_house_value' is the column of interest\n",
        "Q1 = data_cleaned['median_house_value'].quantile(0.25)\n",
        "print(Q1)\n",
        "Q3 = data_cleaned['median_house_value'].quantile(0.75)\n",
        "print(Q3)\n",
        "IQR = Q3 - Q1\n",
        "\n",
        "\n",
        "# Define the bounds for the outliers\n",
        "lower_bound = Q1 - 1.5 * IQR\n",
        "upper_bound = Q3 + 1.5 * IQR\n",
        "\n",
        "# Remove outliers\n",
        "data_no_outliers_1 = data_cleaned[(data_cleaned['median_house_value'] >= lower_bound) & (data_cleaned['median_house_value'] <= upper_bound)]\n",
        "\n",
        "# Check the shape of the data before and after removal of outliers\n",
        "print(\"Original data shape:\", data_cleaned.shape)\n",
        "print(\"New data shape without outliers:\", data_no_outliers_1.shape)"
      ]
    },
    {
      "cell_type": "markdown",
      "metadata": {
        "id": "dNUVut-MdVT7"
      },
      "source": [
        "## BoxPlot for Outlier Detection"
      ]
    },
    {
      "cell_type": "markdown",
      "metadata": {
        "id": "APG6KKA4hDBy"
      },
      "source": [
        "### Outliers in Median Income\n"
      ]
    },
    {
      "cell_type": "code",
      "execution_count": 89,
      "metadata": {
        "colab": {
          "base_uri": "https://localhost:8080/",
          "height": 573
        },
        "id": "TJQ3_XENdVDA",
        "outputId": "4fe9991e-5964-49d6-d386-5066e2407d93"
      },
      "outputs": [
        {
          "data": {
            "image/png": "[encoded data removed]",
            "text/plain": [
              "<Figure size 1000x600 with 1 Axes>"
            ]
          },
          "metadata": {},
          "output_type": "display_data"
        }
      ],
      "source": [
        "plt.figure(figsize=(10, 6))\n",
        "sns.boxplot(x=data_no_outliers_1['median_income'], color='purple')\n",
        "plt.title('Outlier Analysis in Median Income')\n",
        "plt.xlabel('Median Income')\n",
        "plt.show()"
      ]
    },
    {
      "cell_type": "code",
      "execution_count": 90,
      "metadata": {
        "colab": {
          "base_uri": "https://localhost:8080/"
        },
        "id": "5GABcoP9fZYU",
        "outputId": "2ad005f6-d5c2-4edb-9060-6bbd43bfdbee"
      },
      "outputs": [
        {
          "name": "stdout",
          "output_type": "stream",
          "text": [
            "Original data shape: (19369, 10)\n",
            "Data shape without outliers: (19026, 10)\n"
          ]
        }
      ],
      "source": [
        "# Calculate Q1 and Q3\n",
        "Q1 = data_no_outliers_1['median_income'].quantile(0.25)\n",
        "Q3 = data_no_outliers_1['median_income'].quantile(0.75)\n",
        "IQR = Q3 - Q1\n",
        "\n",
        "# Define the bounds for the outliers\n",
        "lower_bound = Q1 - 1.5 * IQR\n",
        "upper_bound = Q3 + 1.5 * IQR\n",
        "\n",
        "# Remove outliers\n",
        "data_no_outliers_2 = data_no_outliers_1[(data_no_outliers_1['median_income'] >= lower_bound) & (data_no_outliers_1['median_income'] <= upper_bound)]\n",
        "\n",
        "# Check the shape of the data before and after the removal of outliers\n",
        "print(\"Original data shape:\", data_no_outliers_1.shape)\n",
        "print(\"Data shape without outliers:\", data_no_outliers_2.shape)"
      ]
    },
    {
      "cell_type": "code",
      "execution_count": 91,
      "metadata": {
        "id": "qN68jVXplYXn"
      },
      "outputs": [],
      "source": [
        "data = data_no_outliers_2"
      ]
    },
    {
      "cell_type": "markdown",
      "metadata": {
        "id": "gLlgJUKeiHsX"
      },
      "source": [
        "## Correlation HeatMap"
      ]
    },
    {
      "cell_type": "code",
      "execution_count": 92,
      "metadata": {},
      "outputs": [
        {
          "name": "stdout",
          "output_type": "stream",
          "text": [
            "<class 'pandas.core.frame.DataFrame'>\n",
            "Index: 19026 entries, 2 to 20639\n",
            "Data columns (total 10 columns):\n",
            " #   Column              Non-Null Count  Dtype  \n",
            "---  ------              --------------  -----  \n",
            " 0   longitude           19026 non-null  float64\n",
            " 1   latitude            19026 non-null  float64\n",
            " 2   housing_median_age  19026 non-null  float64\n",
            " 3   total_rooms         19026 non-null  float64\n",
            " 4   total_bedrooms      19026 non-null  float64\n",
            " 5   population          19026 non-null  float64\n",
            " 6   households          19026 non-null  float64\n",
            " 7   median_income       19026 non-null  float64\n",
            " 8   median_house_value  19026 non-null  float64\n",
            " 9   ocean_proximity     19026 non-null  object \n",
            "dtypes: float64(9), object(1)\n",
            "memory usage: 1.6+ MB\n"
          ]
        }
      ],
      "source": [
        "data.info()\n",
        "numerical_data = data.select_dtypes(include=[float])"
      ]
    },
    {
      "cell_type": "code",
      "execution_count": 93,
      "metadata": {
        "colab": {
          "base_uri": "https://localhost:8080/",
          "height": 905
        },
        "id": "lpxjwEx3fXGw",
        "outputId": "87ab646e-8a41-4070-d89d-461f3cbf1fa3"
      },
      "outputs": [
        {
          "data": {
            "image/png": "[encoded data removed]",
            "text/plain": [
              "<Figure size 1200x800 with 2 Axes>"
            ]
          },
          "metadata": {},
          "output_type": "display_data"
        }
      ],
      "source": [
        "plt.figure(figsize=(12, 8))\n",
        "sns.heatmap(numerical_data.corr(), annot=True, cmap='Greens')\n",
        "plt.title('Correlation Heatmap of Housing Data')\n",
        "plt.show()"
      ]
    },
    {
      "cell_type": "code",
      "execution_count": 94,
      "metadata": {
        "colab": {
          "base_uri": "https://localhost:8080/"
        },
        "id": "Uv25R5k0TsNV",
        "outputId": "ee343eb3-f119-41ef-8dde-e54b70443483"
      },
      "outputs": [
        {
          "data": {
            "text/plain": [
              "Index(['longitude', 'latitude', 'housing_median_age', 'total_rooms',\n",
              "       'population', 'households', 'median_income', 'median_house_value',\n",
              "       'ocean_proximity'],\n",
              "      dtype='object')"
            ]
          },
          "execution_count": 94,
          "metadata": {},
          "output_type": "execute_result"
        }
      ],
      "source": [
        "data = data.drop(\"total_bedrooms\", axis = 1)\n",
        "data.columns"
      ]
    },
    {
      "cell_type": "code",
      "execution_count": 95,
      "metadata": {
        "colab": {
          "base_uri": "https://localhost:8080/"
        },
        "id": "DSjr9BAOb2Bw",
        "outputId": "4cfb4984-1e32-4296-f5c9-7caad2d46d49"
      },
      "outputs": [
        {
          "name": "stdout",
          "output_type": "stream",
          "text": [
            "Unique values in ocean_proximity: ['NEAR BAY' '<1H OCEAN' 'INLAND' 'NEAR OCEAN' 'ISLAND']\n"
          ]
        }
      ],
      "source": [
        "# Unique value count for categorical data\n",
        "for column in ['ocean_proximity']:  # Add other categorical columns if any\n",
        "    print(f\"Unique values in {column}:\", data[column].unique())"
      ]
    },
    {
      "cell_type": "markdown",
      "metadata": {
        "id": "3R5MhzxZq27x"
      },
      "source": [
        "# String Data Categorization to Dummy Variables"
      ]
    },
    {
      "cell_type": "code",
      "execution_count": 96,
      "metadata": {
        "colab": {
          "base_uri": "https://localhost:8080/",
          "height": 424
        },
        "id": "-gNSi7Mzq0Fe",
        "outputId": "3c1c39df-c877-49cd-c2e7-afaa65006554"
      },
      "outputs": [
        {
          "data": {
            "text/html": [
              "<div>\n",
              "<style scoped>\n",
              "    .dataframe tbody tr th:only-of-type {\n",
              "        vertical-align: middle;\n",
              "    }\n",
              "\n",
              "    .dataframe tbody tr th {\n",
              "        vertical-align: top;\n",
              "    }\n",
              "\n",
              "    .dataframe thead th {\n",
              "        text-align: right;\n",
              "    }\n",
              "</style>\n",
              "<table border=\"1\" class=\"dataframe\">\n",
              "  <thead>\n",
              "    <tr style=\"text-align: right;\">\n",
              "      <th></th>\n",
              "      <th>ocean_proximity_&lt;1H OCEAN</th>\n",
              "      <th>ocean_proximity_INLAND</th>\n",
              "      <th>ocean_proximity_ISLAND</th>\n",
              "      <th>ocean_proximity_NEAR BAY</th>\n",
              "      <th>ocean_proximity_NEAR OCEAN</th>\n",
              "    </tr>\n",
              "  </thead>\n",
              "  <tbody>\n",
              "    <tr>\n",
              "      <th>2</th>\n",
              "      <td>False</td>\n",
              "      <td>False</td>\n",
              "      <td>False</td>\n",
              "      <td>True</td>\n",
              "      <td>False</td>\n",
              "    </tr>\n",
              "    <tr>\n",
              "      <th>3</th>\n",
              "      <td>False</td>\n",
              "      <td>False</td>\n",
              "      <td>False</td>\n",
              "      <td>True</td>\n",
              "      <td>False</td>\n",
              "    </tr>\n",
              "    <tr>\n",
              "      <th>4</th>\n",
              "      <td>False</td>\n",
              "      <td>False</td>\n",
              "      <td>False</td>\n",
              "      <td>True</td>\n",
              "      <td>False</td>\n",
              "    </tr>\n",
              "    <tr>\n",
              "      <th>5</th>\n",
              "      <td>False</td>\n",
              "      <td>False</td>\n",
              "      <td>False</td>\n",
              "      <td>True</td>\n",
              "      <td>False</td>\n",
              "    </tr>\n",
              "    <tr>\n",
              "      <th>6</th>\n",
              "      <td>False</td>\n",
              "      <td>False</td>\n",
              "      <td>False</td>\n",
              "      <td>True</td>\n",
              "      <td>False</td>\n",
              "    </tr>\n",
              "    <tr>\n",
              "      <th>...</th>\n",
              "      <td>...</td>\n",
              "      <td>...</td>\n",
              "      <td>...</td>\n",
              "      <td>...</td>\n",
              "      <td>...</td>\n",
              "    </tr>\n",
              "    <tr>\n",
              "      <th>20635</th>\n",
              "      <td>False</td>\n",
              "      <td>True</td>\n",
              "      <td>False</td>\n",
              "      <td>False</td>\n",
              "      <td>False</td>\n",
              "    </tr>\n",
              "    <tr>\n",
              "      <th>20636</th>\n",
              "      <td>False</td>\n",
              "      <td>True</td>\n",
              "      <td>False</td>\n",
              "      <td>False</td>\n",
              "      <td>False</td>\n",
              "    </tr>\n",
              "    <tr>\n",
              "      <th>20637</th>\n",
              "      <td>False</td>\n",
              "      <td>True</td>\n",
              "      <td>False</td>\n",
              "      <td>False</td>\n",
              "      <td>False</td>\n",
              "    </tr>\n",
              "    <tr>\n",
              "      <th>20638</th>\n",
              "      <td>False</td>\n",
              "      <td>True</td>\n",
              "      <td>False</td>\n",
              "      <td>False</td>\n",
              "      <td>False</td>\n",
              "    </tr>\n",
              "    <tr>\n",
              "      <th>20639</th>\n",
              "      <td>False</td>\n",
              "      <td>True</td>\n",
              "      <td>False</td>\n",
              "      <td>False</td>\n",
              "      <td>False</td>\n",
              "    </tr>\n",
              "  </tbody>\n",
              "</table>\n",
              "<p>19026 rows × 5 columns</p>\n",
              "</div>"
            ],
            "text/plain": [
              "       ocean_proximity_<1H OCEAN  ocean_proximity_INLAND  \\\n",
              "2                          False                   False   \n",
              "3                          False                   False   \n",
              "4                          False                   False   \n",
              "5                          False                   False   \n",
              "6                          False                   False   \n",
              "...                          ...                     ...   \n",
              "20635                      False                    True   \n",
              "20636                      False                    True   \n",
              "20637                      False                    True   \n",
              "20638                      False                    True   \n",
              "20639                      False                    True   \n",
              "\n",
              "       ocean_proximity_ISLAND  ocean_proximity_NEAR BAY  \\\n",
              "2                       False                      True   \n",
              "3                       False                      True   \n",
              "4                       False                      True   \n",
              "5                       False                      True   \n",
              "6                       False                      True   \n",
              "...                       ...                       ...   \n",
              "20635                   False                     False   \n",
              "20636                   False                     False   \n",
              "20637                   False                     False   \n",
              "20638                   False                     False   \n",
              "20639                   False                     False   \n",
              "\n",
              "       ocean_proximity_NEAR OCEAN  \n",
              "2                           False  \n",
              "3                           False  \n",
              "4                           False  \n",
              "5                           False  \n",
              "6                           False  \n",
              "...                           ...  \n",
              "20635                       False  \n",
              "20636                       False  \n",
              "20637                       False  \n",
              "20638                       False  \n",
              "20639                       False  \n",
              "\n",
              "[19026 rows x 5 columns]"
            ]
          },
          "execution_count": 96,
          "metadata": {},
          "output_type": "execute_result"
        }
      ],
      "source": [
        "ocean_proximity_dummies = pd.get_dummies(data['ocean_proximity'], prefix='ocean_proximity')\n",
        "data = pd.concat([data.drop(\"ocean_proximity\", axis =1), ocean_proximity_dummies], axis=1)\n",
        "ocean_proximity_dummies\n"
      ]
    },
    {
      "cell_type": "code",
      "execution_count": 97,
      "metadata": {},
      "outputs": [
        {
          "name": "stdout",
          "output_type": "stream",
          "text": [
            "<class 'pandas.core.frame.DataFrame'>\n",
            "Index: 19026 entries, 2 to 20639\n",
            "Data columns (total 13 columns):\n",
            " #   Column                      Non-Null Count  Dtype  \n",
            "---  ------                      --------------  -----  \n",
            " 0   longitude                   19026 non-null  float64\n",
            " 1   latitude                    19026 non-null  float64\n",
            " 2   housing_median_age          19026 non-null  float64\n",
            " 3   total_rooms                 19026 non-null  float64\n",
            " 4   population                  19026 non-null  float64\n",
            " 5   households                  19026 non-null  float64\n",
            " 6   median_income               19026 non-null  float64\n",
            " 7   median_house_value          19026 non-null  float64\n",
            " 8   ocean_proximity_<1H OCEAN   19026 non-null  bool   \n",
            " 9   ocean_proximity_INLAND      19026 non-null  bool   \n",
            " 10  ocean_proximity_ISLAND      19026 non-null  bool   \n",
            " 11  ocean_proximity_NEAR BAY    19026 non-null  bool   \n",
            " 12  ocean_proximity_NEAR OCEAN  19026 non-null  bool   \n",
            "dtypes: bool(5), float64(8)\n",
            "memory usage: 1.4 MB\n"
          ]
        }
      ],
      "source": [
        "data.info()\n",
        "\n",
        "dummy_columns = [\n",
        "    col for col in data.columns if col.startswith('ocean_proximity_')]\n",
        "\n",
        "data[dummy_columns] = data[dummy_columns].astype(int)"
      ]
    },
    {
      "cell_type": "code",
      "execution_count": 98,
      "metadata": {
        "colab": {
          "base_uri": "https://localhost:8080/"
        },
        "id": "yUxdZO01lkS6",
        "outputId": "624f0b32-f622-46bf-e2cb-87efece4defb"
      },
      "outputs": [
        {
          "data": {
            "text/plain": [
              "Index(['longitude', 'latitude', 'housing_median_age', 'total_rooms',\n",
              "       'population', 'households', 'median_income', 'median_house_value',\n",
              "       'ocean_proximity_<1H OCEAN', 'ocean_proximity_INLAND',\n",
              "       'ocean_proximity_ISLAND', 'ocean_proximity_NEAR BAY',\n",
              "       'ocean_proximity_NEAR OCEAN'],\n",
              "      dtype='object')"
            ]
          },
          "execution_count": 98,
          "metadata": {},
          "output_type": "execute_result"
        }
      ],
      "source": [
        "data.columns"
      ]
    },
    {
      "cell_type": "code",
      "execution_count": 99,
      "metadata": {
        "colab": {
          "base_uri": "https://localhost:8080/"
        },
        "id": "KWxtczi2WMvs",
        "outputId": "bd149e71-b7c2-4a1d-bb35-1bbeef7e273e"
      },
      "outputs": [
        {
          "data": {
            "text/plain": [
              "Index(['longitude', 'latitude', 'housing_median_age', 'total_rooms',\n",
              "       'population', 'households', 'median_income', 'median_house_value',\n",
              "       'ocean_proximity_<1H OCEAN', 'ocean_proximity_INLAND',\n",
              "       'ocean_proximity_NEAR BAY', 'ocean_proximity_NEAR OCEAN'],\n",
              "      dtype='object')"
            ]
          },
          "execution_count": 99,
          "metadata": {},
          "output_type": "execute_result"
        }
      ],
      "source": [
        "data = data.drop(\"ocean_proximity_ISLAND\", axis = 1)\n",
        "data.columns"
      ]
    },
    {
      "cell_type": "code",
      "execution_count": 100,
      "metadata": {
        "colab": {
          "base_uri": "https://localhost:8080/",
          "height": 400
        },
        "id": "WFNOW9qCraJ5",
        "outputId": "4e637c19-d746-4b36-9bfe-3b118e11f00c"
      },
      "outputs": [
        {
          "data": {
            "text/html": [
              "<div>\n",
              "<style scoped>\n",
              "    .dataframe tbody tr th:only-of-type {\n",
              "        vertical-align: middle;\n",
              "    }\n",
              "\n",
              "    .dataframe tbody tr th {\n",
              "        vertical-align: top;\n",
              "    }\n",
              "\n",
              "    .dataframe thead th {\n",
              "        text-align: right;\n",
              "    }\n",
              "</style>\n",
              "<table border=\"1\" class=\"dataframe\">\n",
              "  <thead>\n",
              "    <tr style=\"text-align: right;\">\n",
              "      <th></th>\n",
              "      <th>longitude</th>\n",
              "      <th>latitude</th>\n",
              "      <th>housing_median_age</th>\n",
              "      <th>total_rooms</th>\n",
              "      <th>population</th>\n",
              "      <th>households</th>\n",
              "      <th>median_income</th>\n",
              "      <th>median_house_value</th>\n",
              "      <th>ocean_proximity_&lt;1H OCEAN</th>\n",
              "      <th>ocean_proximity_INLAND</th>\n",
              "      <th>ocean_proximity_NEAR BAY</th>\n",
              "      <th>ocean_proximity_NEAR OCEAN</th>\n",
              "    </tr>\n",
              "  </thead>\n",
              "  <tbody>\n",
              "    <tr>\n",
              "      <th>2</th>\n",
              "      <td>-122.24</td>\n",
              "      <td>37.85</td>\n",
              "      <td>52.0</td>\n",
              "      <td>1467.0</td>\n",
              "      <td>496.0</td>\n",
              "      <td>177.0</td>\n",
              "      <td>7.2574</td>\n",
              "      <td>352100.0</td>\n",
              "      <td>0</td>\n",
              "      <td>0</td>\n",
              "      <td>1</td>\n",
              "      <td>0</td>\n",
              "    </tr>\n",
              "    <tr>\n",
              "      <th>3</th>\n",
              "      <td>-122.25</td>\n",
              "      <td>37.85</td>\n",
              "      <td>52.0</td>\n",
              "      <td>1274.0</td>\n",
              "      <td>558.0</td>\n",
              "      <td>219.0</td>\n",
              "      <td>5.6431</td>\n",
              "      <td>341300.0</td>\n",
              "      <td>0</td>\n",
              "      <td>0</td>\n",
              "      <td>1</td>\n",
              "      <td>0</td>\n",
              "    </tr>\n",
              "    <tr>\n",
              "      <th>4</th>\n",
              "      <td>-122.25</td>\n",
              "      <td>37.85</td>\n",
              "      <td>52.0</td>\n",
              "      <td>1627.0</td>\n",
              "      <td>565.0</td>\n",
              "      <td>259.0</td>\n",
              "      <td>3.8462</td>\n",
              "      <td>342200.0</td>\n",
              "      <td>0</td>\n",
              "      <td>0</td>\n",
              "      <td>1</td>\n",
              "      <td>0</td>\n",
              "    </tr>\n",
              "    <tr>\n",
              "      <th>5</th>\n",
              "      <td>-122.25</td>\n",
              "      <td>37.85</td>\n",
              "      <td>52.0</td>\n",
              "      <td>919.0</td>\n",
              "      <td>413.0</td>\n",
              "      <td>193.0</td>\n",
              "      <td>4.0368</td>\n",
              "      <td>269700.0</td>\n",
              "      <td>0</td>\n",
              "      <td>0</td>\n",
              "      <td>1</td>\n",
              "      <td>0</td>\n",
              "    </tr>\n",
              "    <tr>\n",
              "      <th>6</th>\n",
              "      <td>-122.25</td>\n",
              "      <td>37.84</td>\n",
              "      <td>52.0</td>\n",
              "      <td>2535.0</td>\n",
              "      <td>1094.0</td>\n",
              "      <td>514.0</td>\n",
              "      <td>3.6591</td>\n",
              "      <td>299200.0</td>\n",
              "      <td>0</td>\n",
              "      <td>0</td>\n",
              "      <td>1</td>\n",
              "      <td>0</td>\n",
              "    </tr>\n",
              "    <tr>\n",
              "      <th>7</th>\n",
              "      <td>-122.25</td>\n",
              "      <td>37.84</td>\n",
              "      <td>52.0</td>\n",
              "      <td>3104.0</td>\n",
              "      <td>1157.0</td>\n",
              "      <td>647.0</td>\n",
              "      <td>3.1200</td>\n",
              "      <td>241400.0</td>\n",
              "      <td>0</td>\n",
              "      <td>0</td>\n",
              "      <td>1</td>\n",
              "      <td>0</td>\n",
              "    </tr>\n",
              "    <tr>\n",
              "      <th>8</th>\n",
              "      <td>-122.26</td>\n",
              "      <td>37.84</td>\n",
              "      <td>42.0</td>\n",
              "      <td>2555.0</td>\n",
              "      <td>1206.0</td>\n",
              "      <td>595.0</td>\n",
              "      <td>2.0804</td>\n",
              "      <td>226700.0</td>\n",
              "      <td>0</td>\n",
              "      <td>0</td>\n",
              "      <td>1</td>\n",
              "      <td>0</td>\n",
              "    </tr>\n",
              "    <tr>\n",
              "      <th>9</th>\n",
              "      <td>-122.25</td>\n",
              "      <td>37.84</td>\n",
              "      <td>52.0</td>\n",
              "      <td>3549.0</td>\n",
              "      <td>1551.0</td>\n",
              "      <td>714.0</td>\n",
              "      <td>3.6912</td>\n",
              "      <td>261100.0</td>\n",
              "      <td>0</td>\n",
              "      <td>0</td>\n",
              "      <td>1</td>\n",
              "      <td>0</td>\n",
              "    </tr>\n",
              "    <tr>\n",
              "      <th>10</th>\n",
              "      <td>-122.26</td>\n",
              "      <td>37.85</td>\n",
              "      <td>52.0</td>\n",
              "      <td>2202.0</td>\n",
              "      <td>910.0</td>\n",
              "      <td>402.0</td>\n",
              "      <td>3.2031</td>\n",
              "      <td>281500.0</td>\n",
              "      <td>0</td>\n",
              "      <td>0</td>\n",
              "      <td>1</td>\n",
              "      <td>0</td>\n",
              "    </tr>\n",
              "    <tr>\n",
              "      <th>11</th>\n",
              "      <td>-122.26</td>\n",
              "      <td>37.85</td>\n",
              "      <td>52.0</td>\n",
              "      <td>3503.0</td>\n",
              "      <td>1504.0</td>\n",
              "      <td>734.0</td>\n",
              "      <td>3.2705</td>\n",
              "      <td>241800.0</td>\n",
              "      <td>0</td>\n",
              "      <td>0</td>\n",
              "      <td>1</td>\n",
              "      <td>0</td>\n",
              "    </tr>\n",
              "  </tbody>\n",
              "</table>\n",
              "</div>"
            ],
            "text/plain": [
              "    longitude  latitude  housing_median_age  total_rooms  population  \\\n",
              "2     -122.24     37.85                52.0       1467.0       496.0   \n",
              "3     -122.25     37.85                52.0       1274.0       558.0   \n",
              "4     -122.25     37.85                52.0       1627.0       565.0   \n",
              "5     -122.25     37.85                52.0        919.0       413.0   \n",
              "6     -122.25     37.84                52.0       2535.0      1094.0   \n",
              "7     -122.25     37.84                52.0       3104.0      1157.0   \n",
              "8     -122.26     37.84                42.0       2555.0      1206.0   \n",
              "9     -122.25     37.84                52.0       3549.0      1551.0   \n",
              "10    -122.26     37.85                52.0       2202.0       910.0   \n",
              "11    -122.26     37.85                52.0       3503.0      1504.0   \n",
              "\n",
              "    households  median_income  median_house_value  ocean_proximity_<1H OCEAN  \\\n",
              "2        177.0         7.2574            352100.0                          0   \n",
              "3        219.0         5.6431            341300.0                          0   \n",
              "4        259.0         3.8462            342200.0                          0   \n",
              "5        193.0         4.0368            269700.0                          0   \n",
              "6        514.0         3.6591            299200.0                          0   \n",
              "7        647.0         3.1200            241400.0                          0   \n",
              "8        595.0         2.0804            226700.0                          0   \n",
              "9        714.0         3.6912            261100.0                          0   \n",
              "10       402.0         3.2031            281500.0                          0   \n",
              "11       734.0         3.2705            241800.0                          0   \n",
              "\n",
              "    ocean_proximity_INLAND  ocean_proximity_NEAR BAY  \\\n",
              "2                        0                         1   \n",
              "3                        0                         1   \n",
              "4                        0                         1   \n",
              "5                        0                         1   \n",
              "6                        0                         1   \n",
              "7                        0                         1   \n",
              "8                        0                         1   \n",
              "9                        0                         1   \n",
              "10                       0                         1   \n",
              "11                       0                         1   \n",
              "\n",
              "    ocean_proximity_NEAR OCEAN  \n",
              "2                            0  \n",
              "3                            0  \n",
              "4                            0  \n",
              "5                            0  \n",
              "6                            0  \n",
              "7                            0  \n",
              "8                            0  \n",
              "9                            0  \n",
              "10                           0  \n",
              "11                           0  "
            ]
          },
          "execution_count": 100,
          "metadata": {},
          "output_type": "execute_result"
        }
      ],
      "source": [
        "data.head(10)"
      ]
    },
    {
      "cell_type": "markdown",
      "metadata": {
        "id": "qLpRt850llY6"
      },
      "source": [
        "# Splitting the Data into Train/Test"
      ]
    },
    {
      "cell_type": "code",
      "execution_count": 101,
      "metadata": {
        "colab": {
          "base_uri": "https://localhost:8080/"
        },
        "id": "kcjvoe8vlrqQ",
        "outputId": "04bcb51f-cd60-4de5-f930-8387f73bb8c7"
      },
      "outputs": [
        {
          "name": "stdout",
          "output_type": "stream",
          "text": [
            "Training set size: 15220 samples\n",
            "Test set size: 3806 samples\n"
          ]
        }
      ],
      "source": [
        "# Define your features (independent variables) and target (dependent variable)\n",
        "features = ['longitude', 'latitude', 'housing_median_age', 'total_rooms',\n",
        "       'population', 'households', 'median_income',\n",
        "       'ocean_proximity_<1H OCEAN', 'ocean_proximity_INLAND',\n",
        "       'ocean_proximity_NEAR BAY', 'ocean_proximity_NEAR OCEAN']\n",
        "target = [\"median_house_value\"]\n",
        "\n",
        "X = data[features]\n",
        "y = data[target]\n",
        "\n",
        "\n",
        "# Split the data into a training set and a testing set\n",
        "# test_size specifies the proportion of the data to be included in the test split\n",
        "# random_state ensures reproducibility of your split\n",
        "X_train, X_test, y_train, y_test = train_test_split(X, y, test_size=0.2, random_state=1111)\n",
        "\n",
        "# Check the size of the splits\n",
        "print(f'Training set size: {X_train.shape[0]} samples')\n",
        "print(f'Test set size: {X_test.shape[0]} samples')"
      ]
    },
    {
      "cell_type": "markdown",
      "metadata": {
        "id": "V4hThI-RtcFK"
      },
      "source": [
        "## Training"
      ]
    },
    {
      "cell_type": "code",
      "execution_count": 102,
      "metadata": {
        "colab": {
          "base_uri": "https://localhost:8080/",
          "height": 461
        },
        "id": "BaSb2bl4YIod",
        "outputId": "2d24ed7a-e6cf-40fa-cf76-076910f03f23"
      },
      "outputs": [
        {
          "data": {
            "text/html": [
              "<div>\n",
              "<style scoped>\n",
              "    .dataframe tbody tr th:only-of-type {\n",
              "        vertical-align: middle;\n",
              "    }\n",
              "\n",
              "    .dataframe tbody tr th {\n",
              "        vertical-align: top;\n",
              "    }\n",
              "\n",
              "    .dataframe thead th {\n",
              "        text-align: right;\n",
              "    }\n",
              "</style>\n",
              "<table border=\"1\" class=\"dataframe\">\n",
              "  <thead>\n",
              "    <tr style=\"text-align: right;\">\n",
              "      <th></th>\n",
              "      <th>longitude</th>\n",
              "      <th>latitude</th>\n",
              "      <th>housing_median_age</th>\n",
              "      <th>total_rooms</th>\n",
              "      <th>population</th>\n",
              "      <th>households</th>\n",
              "      <th>median_income</th>\n",
              "      <th>ocean_proximity_&lt;1H OCEAN</th>\n",
              "      <th>ocean_proximity_INLAND</th>\n",
              "      <th>ocean_proximity_NEAR BAY</th>\n",
              "      <th>ocean_proximity_NEAR OCEAN</th>\n",
              "    </tr>\n",
              "  </thead>\n",
              "  <tbody>\n",
              "    <tr>\n",
              "      <th>15578</th>\n",
              "      <td>-116.90</td>\n",
              "      <td>33.03</td>\n",
              "      <td>11.0</td>\n",
              "      <td>3213.0</td>\n",
              "      <td>1975.0</td>\n",
              "      <td>579.0</td>\n",
              "      <td>3.4750</td>\n",
              "      <td>1</td>\n",
              "      <td>0</td>\n",
              "      <td>0</td>\n",
              "      <td>0</td>\n",
              "    </tr>\n",
              "    <tr>\n",
              "      <th>1656</th>\n",
              "      <td>-121.93</td>\n",
              "      <td>37.89</td>\n",
              "      <td>13.0</td>\n",
              "      <td>2085.0</td>\n",
              "      <td>852.0</td>\n",
              "      <td>264.0</td>\n",
              "      <td>7.3445</td>\n",
              "      <td>0</td>\n",
              "      <td>1</td>\n",
              "      <td>0</td>\n",
              "      <td>0</td>\n",
              "    </tr>\n",
              "    <tr>\n",
              "      <th>9190</th>\n",
              "      <td>-118.35</td>\n",
              "      <td>34.32</td>\n",
              "      <td>52.0</td>\n",
              "      <td>102.0</td>\n",
              "      <td>54.0</td>\n",
              "      <td>32.0</td>\n",
              "      <td>1.9875</td>\n",
              "      <td>1</td>\n",
              "      <td>0</td>\n",
              "      <td>0</td>\n",
              "      <td>0</td>\n",
              "    </tr>\n",
              "    <tr>\n",
              "      <th>11839</th>\n",
              "      <td>-120.95</td>\n",
              "      <td>39.93</td>\n",
              "      <td>26.0</td>\n",
              "      <td>2023.0</td>\n",
              "      <td>922.0</td>\n",
              "      <td>365.0</td>\n",
              "      <td>2.8125</td>\n",
              "      <td>0</td>\n",
              "      <td>1</td>\n",
              "      <td>0</td>\n",
              "      <td>0</td>\n",
              "    </tr>\n",
              "    <tr>\n",
              "      <th>12267</th>\n",
              "      <td>-116.91</td>\n",
              "      <td>33.75</td>\n",
              "      <td>13.0</td>\n",
              "      <td>10886.0</td>\n",
              "      <td>4266.0</td>\n",
              "      <td>1955.0</td>\n",
              "      <td>2.3169</td>\n",
              "      <td>0</td>\n",
              "      <td>1</td>\n",
              "      <td>0</td>\n",
              "      <td>0</td>\n",
              "    </tr>\n",
              "    <tr>\n",
              "      <th>...</th>\n",
              "      <td>...</td>\n",
              "      <td>...</td>\n",
              "      <td>...</td>\n",
              "      <td>...</td>\n",
              "      <td>...</td>\n",
              "      <td>...</td>\n",
              "      <td>...</td>\n",
              "      <td>...</td>\n",
              "      <td>...</td>\n",
              "      <td>...</td>\n",
              "      <td>...</td>\n",
              "    </tr>\n",
              "    <tr>\n",
              "      <th>15355</th>\n",
              "      <td>-117.32</td>\n",
              "      <td>33.25</td>\n",
              "      <td>7.0</td>\n",
              "      <td>8206.0</td>\n",
              "      <td>4399.0</td>\n",
              "      <td>1423.0</td>\n",
              "      <td>3.6301</td>\n",
              "      <td>1</td>\n",
              "      <td>0</td>\n",
              "      <td>0</td>\n",
              "      <td>0</td>\n",
              "    </tr>\n",
              "    <tr>\n",
              "      <th>9608</th>\n",
              "      <td>-120.51</td>\n",
              "      <td>37.29</td>\n",
              "      <td>20.0</td>\n",
              "      <td>4927.0</td>\n",
              "      <td>4205.0</td>\n",
              "      <td>1009.0</td>\n",
              "      <td>1.7679</td>\n",
              "      <td>0</td>\n",
              "      <td>1</td>\n",
              "      <td>0</td>\n",
              "      <td>0</td>\n",
              "    </tr>\n",
              "    <tr>\n",
              "      <th>12606</th>\n",
              "      <td>-121.49</td>\n",
              "      <td>38.50</td>\n",
              "      <td>32.0</td>\n",
              "      <td>2364.0</td>\n",
              "      <td>1331.0</td>\n",
              "      <td>449.0</td>\n",
              "      <td>3.3190</td>\n",
              "      <td>0</td>\n",
              "      <td>1</td>\n",
              "      <td>0</td>\n",
              "      <td>0</td>\n",
              "    </tr>\n",
              "    <tr>\n",
              "      <th>2907</th>\n",
              "      <td>-119.03</td>\n",
              "      <td>35.37</td>\n",
              "      <td>52.0</td>\n",
              "      <td>1503.0</td>\n",
              "      <td>554.0</td>\n",
              "      <td>277.0</td>\n",
              "      <td>1.6786</td>\n",
              "      <td>0</td>\n",
              "      <td>1</td>\n",
              "      <td>0</td>\n",
              "      <td>0</td>\n",
              "    </tr>\n",
              "    <tr>\n",
              "      <th>18139</th>\n",
              "      <td>-122.01</td>\n",
              "      <td>37.34</td>\n",
              "      <td>31.0</td>\n",
              "      <td>3080.0</td>\n",
              "      <td>1493.0</td>\n",
              "      <td>582.0</td>\n",
              "      <td>6.3052</td>\n",
              "      <td>1</td>\n",
              "      <td>0</td>\n",
              "      <td>0</td>\n",
              "      <td>0</td>\n",
              "    </tr>\n",
              "  </tbody>\n",
              "</table>\n",
              "<p>15220 rows × 11 columns</p>\n",
              "</div>"
            ],
            "text/plain": [
              "       longitude  latitude  housing_median_age  total_rooms  population  \\\n",
              "15578    -116.90     33.03                11.0       3213.0      1975.0   \n",
              "1656     -121.93     37.89                13.0       2085.0       852.0   \n",
              "9190     -118.35     34.32                52.0        102.0        54.0   \n",
              "11839    -120.95     39.93                26.0       2023.0       922.0   \n",
              "12267    -116.91     33.75                13.0      10886.0      4266.0   \n",
              "...          ...       ...                 ...          ...         ...   \n",
              "15355    -117.32     33.25                 7.0       8206.0      4399.0   \n",
              "9608     -120.51     37.29                20.0       4927.0      4205.0   \n",
              "12606    -121.49     38.50                32.0       2364.0      1331.0   \n",
              "2907     -119.03     35.37                52.0       1503.0       554.0   \n",
              "18139    -122.01     37.34                31.0       3080.0      1493.0   \n",
              "\n",
              "       households  median_income  ocean_proximity_<1H OCEAN  \\\n",
              "15578       579.0         3.4750                          1   \n",
              "1656        264.0         7.3445                          0   \n",
              "9190         32.0         1.9875                          1   \n",
              "11839       365.0         2.8125                          0   \n",
              "12267      1955.0         2.3169                          0   \n",
              "...           ...            ...                        ...   \n",
              "15355      1423.0         3.6301                          1   \n",
              "9608       1009.0         1.7679                          0   \n",
              "12606       449.0         3.3190                          0   \n",
              "2907        277.0         1.6786                          0   \n",
              "18139       582.0         6.3052                          1   \n",
              "\n",
              "       ocean_proximity_INLAND  ocean_proximity_NEAR BAY  \\\n",
              "15578                       0                         0   \n",
              "1656                        1                         0   \n",
              "9190                        0                         0   \n",
              "11839                       1                         0   \n",
              "12267                       1                         0   \n",
              "...                       ...                       ...   \n",
              "15355                       0                         0   \n",
              "9608                        1                         0   \n",
              "12606                       1                         0   \n",
              "2907                        1                         0   \n",
              "18139                       0                         0   \n",
              "\n",
              "       ocean_proximity_NEAR OCEAN  \n",
              "15578                           0  \n",
              "1656                            0  \n",
              "9190                            0  \n",
              "11839                           0  \n",
              "12267                           0  \n",
              "...                           ...  \n",
              "15355                           0  \n",
              "9608                            0  \n",
              "12606                           0  \n",
              "2907                            0  \n",
              "18139                           0  \n",
              "\n",
              "[15220 rows x 11 columns]"
            ]
          },
          "execution_count": 102,
          "metadata": {},
          "output_type": "execute_result"
        }
      ],
      "source": [
        "X_train"
      ]
    },
    {
      "cell_type": "code",
      "execution_count": 103,
      "metadata": {
        "colab": {
          "base_uri": "https://localhost:8080/",
          "height": 461
        },
        "id": "jIGBYYu5n3rw",
        "outputId": "b7afaa38-c6fa-4803-acad-700f8cc5d223"
      },
      "outputs": [
        {
          "data": {
            "text/html": [
              "<div>\n",
              "<style scoped>\n",
              "    .dataframe tbody tr th:only-of-type {\n",
              "        vertical-align: middle;\n",
              "    }\n",
              "\n",
              "    .dataframe tbody tr th {\n",
              "        vertical-align: top;\n",
              "    }\n",
              "\n",
              "    .dataframe thead th {\n",
              "        text-align: right;\n",
              "    }\n",
              "</style>\n",
              "<table border=\"1\" class=\"dataframe\">\n",
              "  <thead>\n",
              "    <tr style=\"text-align: right;\">\n",
              "      <th></th>\n",
              "      <th>const</th>\n",
              "      <th>longitude</th>\n",
              "      <th>latitude</th>\n",
              "      <th>housing_median_age</th>\n",
              "      <th>total_rooms</th>\n",
              "      <th>population</th>\n",
              "      <th>households</th>\n",
              "      <th>median_income</th>\n",
              "      <th>ocean_proximity_&lt;1H OCEAN</th>\n",
              "      <th>ocean_proximity_INLAND</th>\n",
              "      <th>ocean_proximity_NEAR BAY</th>\n",
              "      <th>ocean_proximity_NEAR OCEAN</th>\n",
              "    </tr>\n",
              "  </thead>\n",
              "  <tbody>\n",
              "    <tr>\n",
              "      <th>15578</th>\n",
              "      <td>1.0</td>\n",
              "      <td>-116.90</td>\n",
              "      <td>33.03</td>\n",
              "      <td>11.0</td>\n",
              "      <td>3213.0</td>\n",
              "      <td>1975.0</td>\n",
              "      <td>579.0</td>\n",
              "      <td>3.4750</td>\n",
              "      <td>1</td>\n",
              "      <td>0</td>\n",
              "      <td>0</td>\n",
              "      <td>0</td>\n",
              "    </tr>\n",
              "    <tr>\n",
              "      <th>1656</th>\n",
              "      <td>1.0</td>\n",
              "      <td>-121.93</td>\n",
              "      <td>37.89</td>\n",
              "      <td>13.0</td>\n",
              "      <td>2085.0</td>\n",
              "      <td>852.0</td>\n",
              "      <td>264.0</td>\n",
              "      <td>7.3445</td>\n",
              "      <td>0</td>\n",
              "      <td>1</td>\n",
              "      <td>0</td>\n",
              "      <td>0</td>\n",
              "    </tr>\n",
              "    <tr>\n",
              "      <th>9190</th>\n",
              "      <td>1.0</td>\n",
              "      <td>-118.35</td>\n",
              "      <td>34.32</td>\n",
              "      <td>52.0</td>\n",
              "      <td>102.0</td>\n",
              "      <td>54.0</td>\n",
              "      <td>32.0</td>\n",
              "      <td>1.9875</td>\n",
              "      <td>1</td>\n",
              "      <td>0</td>\n",
              "      <td>0</td>\n",
              "      <td>0</td>\n",
              "    </tr>\n",
              "    <tr>\n",
              "      <th>11839</th>\n",
              "      <td>1.0</td>\n",
              "      <td>-120.95</td>\n",
              "      <td>39.93</td>\n",
              "      <td>26.0</td>\n",
              "      <td>2023.0</td>\n",
              "      <td>922.0</td>\n",
              "      <td>365.0</td>\n",
              "      <td>2.8125</td>\n",
              "      <td>0</td>\n",
              "      <td>1</td>\n",
              "      <td>0</td>\n",
              "      <td>0</td>\n",
              "    </tr>\n",
              "    <tr>\n",
              "      <th>12267</th>\n",
              "      <td>1.0</td>\n",
              "      <td>-116.91</td>\n",
              "      <td>33.75</td>\n",
              "      <td>13.0</td>\n",
              "      <td>10886.0</td>\n",
              "      <td>4266.0</td>\n",
              "      <td>1955.0</td>\n",
              "      <td>2.3169</td>\n",
              "      <td>0</td>\n",
              "      <td>1</td>\n",
              "      <td>0</td>\n",
              "      <td>0</td>\n",
              "    </tr>\n",
              "    <tr>\n",
              "      <th>...</th>\n",
              "      <td>...</td>\n",
              "      <td>...</td>\n",
              "      <td>...</td>\n",
              "      <td>...</td>\n",
              "      <td>...</td>\n",
              "      <td>...</td>\n",
              "      <td>...</td>\n",
              "      <td>...</td>\n",
              "      <td>...</td>\n",
              "      <td>...</td>\n",
              "      <td>...</td>\n",
              "      <td>...</td>\n",
              "    </tr>\n",
              "    <tr>\n",
              "      <th>15355</th>\n",
              "      <td>1.0</td>\n",
              "      <td>-117.32</td>\n",
              "      <td>33.25</td>\n",
              "      <td>7.0</td>\n",
              "      <td>8206.0</td>\n",
              "      <td>4399.0</td>\n",
              "      <td>1423.0</td>\n",
              "      <td>3.6301</td>\n",
              "      <td>1</td>\n",
              "      <td>0</td>\n",
              "      <td>0</td>\n",
              "      <td>0</td>\n",
              "    </tr>\n",
              "    <tr>\n",
              "      <th>9608</th>\n",
              "      <td>1.0</td>\n",
              "      <td>-120.51</td>\n",
              "      <td>37.29</td>\n",
              "      <td>20.0</td>\n",
              "      <td>4927.0</td>\n",
              "      <td>4205.0</td>\n",
              "      <td>1009.0</td>\n",
              "      <td>1.7679</td>\n",
              "      <td>0</td>\n",
              "      <td>1</td>\n",
              "      <td>0</td>\n",
              "      <td>0</td>\n",
              "    </tr>\n",
              "    <tr>\n",
              "      <th>12606</th>\n",
              "      <td>1.0</td>\n",
              "      <td>-121.49</td>\n",
              "      <td>38.50</td>\n",
              "      <td>32.0</td>\n",
              "      <td>2364.0</td>\n",
              "      <td>1331.0</td>\n",
              "      <td>449.0</td>\n",
              "      <td>3.3190</td>\n",
              "      <td>0</td>\n",
              "      <td>1</td>\n",
              "      <td>0</td>\n",
              "      <td>0</td>\n",
              "    </tr>\n",
              "    <tr>\n",
              "      <th>2907</th>\n",
              "      <td>1.0</td>\n",
              "      <td>-119.03</td>\n",
              "      <td>35.37</td>\n",
              "      <td>52.0</td>\n",
              "      <td>1503.0</td>\n",
              "      <td>554.0</td>\n",
              "      <td>277.0</td>\n",
              "      <td>1.6786</td>\n",
              "      <td>0</td>\n",
              "      <td>1</td>\n",
              "      <td>0</td>\n",
              "      <td>0</td>\n",
              "    </tr>\n",
              "    <tr>\n",
              "      <th>18139</th>\n",
              "      <td>1.0</td>\n",
              "      <td>-122.01</td>\n",
              "      <td>37.34</td>\n",
              "      <td>31.0</td>\n",
              "      <td>3080.0</td>\n",
              "      <td>1493.0</td>\n",
              "      <td>582.0</td>\n",
              "      <td>6.3052</td>\n",
              "      <td>1</td>\n",
              "      <td>0</td>\n",
              "      <td>0</td>\n",
              "      <td>0</td>\n",
              "    </tr>\n",
              "  </tbody>\n",
              "</table>\n",
              "<p>15220 rows × 12 columns</p>\n",
              "</div>"
            ],
            "text/plain": [
              "       const  longitude  latitude  housing_median_age  total_rooms  \\\n",
              "15578    1.0    -116.90     33.03                11.0       3213.0   \n",
              "1656     1.0    -121.93     37.89                13.0       2085.0   \n",
              "9190     1.0    -118.35     34.32                52.0        102.0   \n",
              "11839    1.0    -120.95     39.93                26.0       2023.0   \n",
              "12267    1.0    -116.91     33.75                13.0      10886.0   \n",
              "...      ...        ...       ...                 ...          ...   \n",
              "15355    1.0    -117.32     33.25                 7.0       8206.0   \n",
              "9608     1.0    -120.51     37.29                20.0       4927.0   \n",
              "12606    1.0    -121.49     38.50                32.0       2364.0   \n",
              "2907     1.0    -119.03     35.37                52.0       1503.0   \n",
              "18139    1.0    -122.01     37.34                31.0       3080.0   \n",
              "\n",
              "       population  households  median_income  ocean_proximity_<1H OCEAN  \\\n",
              "15578      1975.0       579.0         3.4750                          1   \n",
              "1656        852.0       264.0         7.3445                          0   \n",
              "9190         54.0        32.0         1.9875                          1   \n",
              "11839       922.0       365.0         2.8125                          0   \n",
              "12267      4266.0      1955.0         2.3169                          0   \n",
              "...           ...         ...            ...                        ...   \n",
              "15355      4399.0      1423.0         3.6301                          1   \n",
              "9608       4205.0      1009.0         1.7679                          0   \n",
              "12606      1331.0       449.0         3.3190                          0   \n",
              "2907        554.0       277.0         1.6786                          0   \n",
              "18139      1493.0       582.0         6.3052                          1   \n",
              "\n",
              "       ocean_proximity_INLAND  ocean_proximity_NEAR BAY  \\\n",
              "15578                       0                         0   \n",
              "1656                        1                         0   \n",
              "9190                        0                         0   \n",
              "11839                       1                         0   \n",
              "12267                       1                         0   \n",
              "...                       ...                       ...   \n",
              "15355                       0                         0   \n",
              "9608                        1                         0   \n",
              "12606                       1                         0   \n",
              "2907                        1                         0   \n",
              "18139                       0                         0   \n",
              "\n",
              "       ocean_proximity_NEAR OCEAN  \n",
              "15578                           0  \n",
              "1656                            0  \n",
              "9190                            0  \n",
              "11839                           0  \n",
              "12267                           0  \n",
              "...                           ...  \n",
              "15355                           0  \n",
              "9608                            0  \n",
              "12606                           0  \n",
              "2907                            0  \n",
              "18139                           0  \n",
              "\n",
              "[15220 rows x 12 columns]"
            ]
          },
          "execution_count": 103,
          "metadata": {},
          "output_type": "execute_result"
        }
      ],
      "source": [
        "# Adding a constant to the predictors because statsmodels' OLS doesn't include it by default\n",
        "X_train_const = sm.add_constant(X_train)\n",
        "X_train_const\n"
      ]
    },
    {
      "cell_type": "code",
      "execution_count": 104,
      "metadata": {
        "colab": {
          "base_uri": "https://localhost:8080/"
        },
        "id": "KFTGezidYFfr",
        "outputId": "ca458db4-87e8-46fa-8518-110bc10235c9"
      },
      "outputs": [
        {
          "name": "stdout",
          "output_type": "stream",
          "text": [
            "                            OLS Regression Results                            \n",
            "==============================================================================\n",
            "Dep. Variable:     median_house_value   R-squared:                       0.588\n",
            "Model:                            OLS   Adj. R-squared:                  0.588\n",
            "Method:                 Least Squares   F-statistic:                     1973.\n",
            "Date:                Mon, 12 Aug 2024   Prob (F-statistic):               0.00\n",
            "Time:                        01:29:16   Log-Likelihood:            -1.8879e+05\n",
            "No. Observations:               15220   AIC:                         3.776e+05\n",
            "Df Residuals:                   15208   BIC:                         3.777e+05\n",
            "Df Model:                          11                                         \n",
            "Covariance Type:            nonrobust                                         \n",
            "==============================================================================================\n",
            "                                 coef    std err          t      P>|t|      [0.025      0.975]\n",
            "----------------------------------------------------------------------------------------------\n",
            "const                      -1.747e+06   9.16e+04    -19.073      0.000   -1.93e+06   -1.57e+06\n",
            "longitude                  -2.268e+04    997.843    -22.728      0.000   -2.46e+04   -2.07e+04\n",
            "latitude                   -2.109e+04    981.562    -21.490      0.000    -2.3e+04   -1.92e+04\n",
            "housing_median_age           846.4636     44.561     18.996      0.000     759.118     933.809\n",
            "total_rooms                   -2.6698      0.716     -3.728      0.000      -4.073      -1.266\n",
            "population                   -33.1937      1.050    -31.620      0.000     -35.251     -31.136\n",
            "households                   124.3609      4.388     28.343      0.000     115.761     132.961\n",
            "median_income               3.562e+04    424.453     83.928      0.000    3.48e+04    3.65e+04\n",
            "ocean_proximity_<1H OCEAN    -1.7e+05   2.95e+04     -5.755      0.000   -2.28e+05   -1.12e+05\n",
            "ocean_proximity_INLAND     -2.108e+05   2.96e+04     -7.123      0.000   -2.69e+05   -1.53e+05\n",
            "ocean_proximity_NEAR BAY   -1.779e+05   2.96e+04     -6.015      0.000   -2.36e+05    -1.2e+05\n",
            "ocean_proximity_NEAR OCEAN -1.689e+05   2.95e+04     -5.716      0.000   -2.27e+05   -1.11e+05\n",
            "==============================================================================\n",
            "Omnibus:                     3434.427   Durbin-Watson:                   2.004\n",
            "Prob(Omnibus):                  0.000   Jarque-Bera (JB):            10645.381\n",
            "Skew:                           1.157   Prob(JB):                         0.00\n",
            "Kurtosis:                       6.381   Cond. No.                     7.61e+05\n",
            "==============================================================================\n",
            "\n",
            "Notes:\n",
            "[1] Standard Errors assume that the covariance matrix of the errors is correctly specified.\n",
            "[2] The condition number is large, 7.61e+05. This might indicate that there are\n",
            "strong multicollinearity or other numerical problems.\n"
          ]
        }
      ],
      "source": [
        "# Fit the OLS model\n",
        "model_fitted = sm.OLS(y_train, X_train_const).fit()\n",
        "\n",
        "# Printing Summary\n",
        "print(model_fitted.summary())"
      ]
    },
    {
      "cell_type": "markdown",
      "metadata": {
        "id": "gIiHsJNwtWxV"
      },
      "source": [
        "## Prediction/Testing"
      ]
    },
    {
      "cell_type": "code",
      "execution_count": 105,
      "metadata": {
        "colab": {
          "base_uri": "https://localhost:8080/"
        },
        "id": "E8BakjzJtWC8",
        "outputId": "42e9340a-1540-43b3-91bb-d601407ba2ba"
      },
      "outputs": [
        {
          "data": {
            "text/plain": [
              "7322     153414.201880\n",
              "465      239312.044180\n",
              "12768     70054.781175\n",
              "2617     189568.171319\n",
              "13351    184267.795032\n",
              "             ...      \n",
              "11691    171568.742378\n",
              "1454     215893.783794\n",
              "7360     129935.765388\n",
              "19118    232846.312809\n",
              "13084    207120.213485\n",
              "Length: 3806, dtype: float64"
            ]
          },
          "execution_count": 105,
          "metadata": {},
          "output_type": "execute_result"
        }
      ],
      "source": [
        "# Adding a constant to the test predictors\n",
        "X_test_const = sm.add_constant(X_test)\n",
        "\n",
        "# Making predictions on the test set\n",
        "test_predictions = model_fitted.predict(X_test_const)\n",
        "test_predictions"
      ]
    },
    {
      "cell_type": "code",
      "execution_count": 106,
      "metadata": {
        "colab": {
          "base_uri": "https://localhost:8080/",
          "height": 461
        },
        "id": "-WLNGDXhtnwB",
        "outputId": "77af1ffd-5284-4799-edda-b78c80fe88b1"
      },
      "outputs": [
        {
          "data": {
            "text/html": [
              "<div>\n",
              "<style scoped>\n",
              "    .dataframe tbody tr th:only-of-type {\n",
              "        vertical-align: middle;\n",
              "    }\n",
              "\n",
              "    .dataframe tbody tr th {\n",
              "        vertical-align: top;\n",
              "    }\n",
              "\n",
              "    .dataframe thead th {\n",
              "        text-align: right;\n",
              "    }\n",
              "</style>\n",
              "<table border=\"1\" class=\"dataframe\">\n",
              "  <thead>\n",
              "    <tr style=\"text-align: right;\">\n",
              "      <th></th>\n",
              "      <th>const</th>\n",
              "      <th>longitude</th>\n",
              "      <th>latitude</th>\n",
              "      <th>housing_median_age</th>\n",
              "      <th>total_rooms</th>\n",
              "      <th>population</th>\n",
              "      <th>households</th>\n",
              "      <th>median_income</th>\n",
              "      <th>ocean_proximity_&lt;1H OCEAN</th>\n",
              "      <th>ocean_proximity_INLAND</th>\n",
              "      <th>ocean_proximity_NEAR BAY</th>\n",
              "      <th>ocean_proximity_NEAR OCEAN</th>\n",
              "    </tr>\n",
              "  </thead>\n",
              "  <tbody>\n",
              "    <tr>\n",
              "      <th>7322</th>\n",
              "      <td>1.0</td>\n",
              "      <td>-118.17</td>\n",
              "      <td>33.98</td>\n",
              "      <td>27.0</td>\n",
              "      <td>1871.0</td>\n",
              "      <td>2542.0</td>\n",
              "      <td>581.0</td>\n",
              "      <td>2.8427</td>\n",
              "      <td>1</td>\n",
              "      <td>0</td>\n",
              "      <td>0</td>\n",
              "      <td>0</td>\n",
              "    </tr>\n",
              "    <tr>\n",
              "      <th>465</th>\n",
              "      <td>1.0</td>\n",
              "      <td>-122.28</td>\n",
              "      <td>37.86</td>\n",
              "      <td>52.0</td>\n",
              "      <td>938.0</td>\n",
              "      <td>393.0</td>\n",
              "      <td>189.0</td>\n",
              "      <td>3.8594</td>\n",
              "      <td>0</td>\n",
              "      <td>0</td>\n",
              "      <td>1</td>\n",
              "      <td>0</td>\n",
              "    </tr>\n",
              "    <tr>\n",
              "      <th>12768</th>\n",
              "      <td>1.0</td>\n",
              "      <td>-121.43</td>\n",
              "      <td>38.61</td>\n",
              "      <td>40.0</td>\n",
              "      <td>1134.0</td>\n",
              "      <td>675.0</td>\n",
              "      <td>249.0</td>\n",
              "      <td>1.3696</td>\n",
              "      <td>0</td>\n",
              "      <td>1</td>\n",
              "      <td>0</td>\n",
              "      <td>0</td>\n",
              "    </tr>\n",
              "    <tr>\n",
              "      <th>2617</th>\n",
              "      <td>1.0</td>\n",
              "      <td>-124.11</td>\n",
              "      <td>40.93</td>\n",
              "      <td>25.0</td>\n",
              "      <td>2392.0</td>\n",
              "      <td>1298.0</td>\n",
              "      <td>461.0</td>\n",
              "      <td>3.5076</td>\n",
              "      <td>0</td>\n",
              "      <td>0</td>\n",
              "      <td>0</td>\n",
              "      <td>1</td>\n",
              "    </tr>\n",
              "    <tr>\n",
              "      <th>13351</th>\n",
              "      <td>1.0</td>\n",
              "      <td>-117.62</td>\n",
              "      <td>34.02</td>\n",
              "      <td>9.0</td>\n",
              "      <td>4265.0</td>\n",
              "      <td>2280.0</td>\n",
              "      <td>589.0</td>\n",
              "      <td>5.5632</td>\n",
              "      <td>0</td>\n",
              "      <td>1</td>\n",
              "      <td>0</td>\n",
              "      <td>0</td>\n",
              "    </tr>\n",
              "    <tr>\n",
              "      <th>...</th>\n",
              "      <td>...</td>\n",
              "      <td>...</td>\n",
              "      <td>...</td>\n",
              "      <td>...</td>\n",
              "      <td>...</td>\n",
              "      <td>...</td>\n",
              "      <td>...</td>\n",
              "      <td>...</td>\n",
              "      <td>...</td>\n",
              "      <td>...</td>\n",
              "      <td>...</td>\n",
              "      <td>...</td>\n",
              "    </tr>\n",
              "    <tr>\n",
              "      <th>11691</th>\n",
              "      <td>1.0</td>\n",
              "      <td>-117.99</td>\n",
              "      <td>33.87</td>\n",
              "      <td>17.0</td>\n",
              "      <td>2334.0</td>\n",
              "      <td>1662.0</td>\n",
              "      <td>535.0</td>\n",
              "      <td>3.0147</td>\n",
              "      <td>1</td>\n",
              "      <td>0</td>\n",
              "      <td>0</td>\n",
              "      <td>0</td>\n",
              "    </tr>\n",
              "    <tr>\n",
              "      <th>1454</th>\n",
              "      <td>1.0</td>\n",
              "      <td>-121.96</td>\n",
              "      <td>37.96</td>\n",
              "      <td>28.0</td>\n",
              "      <td>1838.0</td>\n",
              "      <td>899.0</td>\n",
              "      <td>270.0</td>\n",
              "      <td>5.2145</td>\n",
              "      <td>0</td>\n",
              "      <td>1</td>\n",
              "      <td>0</td>\n",
              "      <td>0</td>\n",
              "    </tr>\n",
              "    <tr>\n",
              "      <th>7360</th>\n",
              "      <td>1.0</td>\n",
              "      <td>-118.19</td>\n",
              "      <td>33.96</td>\n",
              "      <td>28.0</td>\n",
              "      <td>3507.0</td>\n",
              "      <td>3740.0</td>\n",
              "      <td>970.0</td>\n",
              "      <td>2.0162</td>\n",
              "      <td>1</td>\n",
              "      <td>0</td>\n",
              "      <td>0</td>\n",
              "      <td>0</td>\n",
              "    </tr>\n",
              "    <tr>\n",
              "      <th>19118</th>\n",
              "      <td>1.0</td>\n",
              "      <td>-122.65</td>\n",
              "      <td>38.23</td>\n",
              "      <td>52.0</td>\n",
              "      <td>1923.0</td>\n",
              "      <td>910.0</td>\n",
              "      <td>345.0</td>\n",
              "      <td>3.4500</td>\n",
              "      <td>1</td>\n",
              "      <td>0</td>\n",
              "      <td>0</td>\n",
              "      <td>0</td>\n",
              "    </tr>\n",
              "    <tr>\n",
              "      <th>13084</th>\n",
              "      <td>1.0</td>\n",
              "      <td>-121.36</td>\n",
              "      <td>38.57</td>\n",
              "      <td>26.0</td>\n",
              "      <td>1793.0</td>\n",
              "      <td>653.0</td>\n",
              "      <td>235.0</td>\n",
              "      <td>5.6485</td>\n",
              "      <td>0</td>\n",
              "      <td>1</td>\n",
              "      <td>0</td>\n",
              "      <td>0</td>\n",
              "    </tr>\n",
              "  </tbody>\n",
              "</table>\n",
              "<p>3806 rows × 12 columns</p>\n",
              "</div>"
            ],
            "text/plain": [
              "       const  longitude  latitude  housing_median_age  total_rooms  \\\n",
              "7322     1.0    -118.17     33.98                27.0       1871.0   \n",
              "465      1.0    -122.28     37.86                52.0        938.0   \n",
              "12768    1.0    -121.43     38.61                40.0       1134.0   \n",
              "2617     1.0    -124.11     40.93                25.0       2392.0   \n",
              "13351    1.0    -117.62     34.02                 9.0       4265.0   \n",
              "...      ...        ...       ...                 ...          ...   \n",
              "11691    1.0    -117.99     33.87                17.0       2334.0   \n",
              "1454     1.0    -121.96     37.96                28.0       1838.0   \n",
              "7360     1.0    -118.19     33.96                28.0       3507.0   \n",
              "19118    1.0    -122.65     38.23                52.0       1923.0   \n",
              "13084    1.0    -121.36     38.57                26.0       1793.0   \n",
              "\n",
              "       population  households  median_income  ocean_proximity_<1H OCEAN  \\\n",
              "7322       2542.0       581.0         2.8427                          1   \n",
              "465         393.0       189.0         3.8594                          0   \n",
              "12768       675.0       249.0         1.3696                          0   \n",
              "2617       1298.0       461.0         3.5076                          0   \n",
              "13351      2280.0       589.0         5.5632                          0   \n",
              "...           ...         ...            ...                        ...   \n",
              "11691      1662.0       535.0         3.0147                          1   \n",
              "1454        899.0       270.0         5.2145                          0   \n",
              "7360       3740.0       970.0         2.0162                          1   \n",
              "19118       910.0       345.0         3.4500                          1   \n",
              "13084       653.0       235.0         5.6485                          0   \n",
              "\n",
              "       ocean_proximity_INLAND  ocean_proximity_NEAR BAY  \\\n",
              "7322                        0                         0   \n",
              "465                         0                         1   \n",
              "12768                       1                         0   \n",
              "2617                        0                         0   \n",
              "13351                       1                         0   \n",
              "...                       ...                       ...   \n",
              "11691                       0                         0   \n",
              "1454                        1                         0   \n",
              "7360                        0                         0   \n",
              "19118                       0                         0   \n",
              "13084                       1                         0   \n",
              "\n",
              "       ocean_proximity_NEAR OCEAN  \n",
              "7322                            0  \n",
              "465                             0  \n",
              "12768                           0  \n",
              "2617                            1  \n",
              "13351                           0  \n",
              "...                           ...  \n",
              "11691                           0  \n",
              "1454                            0  \n",
              "7360                            0  \n",
              "19118                           0  \n",
              "13084                           0  \n",
              "\n",
              "[3806 rows x 12 columns]"
            ]
          },
          "execution_count": 106,
          "metadata": {},
          "output_type": "execute_result"
        }
      ],
      "source": [
        "X_test_const"
      ]
    },
    {
      "cell_type": "markdown",
      "metadata": {
        "id": "2rskgovfkhab"
      },
      "source": [
        "# Checking OLS Assumtions"
      ]
    },
    {
      "cell_type": "markdown",
      "metadata": {
        "id": "IBs0xv9KkkHD"
      },
      "source": [
        "## Assumtion 1: Linearity"
      ]
    },
    {
      "cell_type": "code",
      "execution_count": 107,
      "metadata": {
        "colab": {
          "base_uri": "https://localhost:8080/",
          "height": 480
        },
        "id": "rqYFy6nfs4Ic",
        "outputId": "db510895-9fee-4174-ae66-31c81c6bdfbc"
      },
      "outputs": [
        {
          "data": {
            "image/png": "[encoded data removed]",
            "text/plain": [
              "<Figure size 640x480 with 1 Axes>"
            ]
          },
          "metadata": {},
          "output_type": "display_data"
        }
      ],
      "source": [
        "# Scatter plot for observed vs predicted values on test data\n",
        "plt.scatter(y_test, test_predictions, color = \"forestgreen\")\n",
        "plt.xlabel('Observed Values')\n",
        "plt.ylabel('Predicted Values')\n",
        "plt.title('Observed vs Predicted Values on Test Data')\n",
        "plt.plot(y_test, y_test, color='darkred')  # line for perfect prediction (true values)\n",
        "plt.show()\n"
      ]
    },
    {
      "cell_type": "markdown",
      "metadata": {
        "id": "gWRAS9Ceur36"
      },
      "source": [
        "**Positive Linear Relationship:**\n",
        "The red line (which represents a perfect prediction line) and the distribution of the data points suggest there's a positive linear relationship between the observed and predicted values. This means that as the actual values increase, the predicted values also increase, which is a good sign for linearity."
      ]
    },
    {
      "cell_type": "markdown",
      "metadata": {
        "id": "_-A1hukrkwUl"
      },
      "source": [
        "## Assumtion 2: Random Sample"
      ]
    },
    {
      "cell_type": "code",
      "execution_count": 108,
      "metadata": {
        "colab": {
          "base_uri": "https://localhost:8080/"
        },
        "id": "hP-qFMA7u5hj",
        "outputId": "dd259a92-693f-4f48-d0df-91438f69a8f3"
      },
      "outputs": [
        {
          "name": "stdout",
          "output_type": "stream",
          "text": [
            "The mean of the residuals is 0.0\n"
          ]
        }
      ],
      "source": [
        "# Calculate the mean of the residuals\n",
        "mean_residuals = np.mean(model_fitted.resid)\n",
        "\n",
        "print(f\"The mean of the residuals is {np.round(mean_residuals,2)}\")\n"
      ]
    },
    {
      "cell_type": "markdown",
      "metadata": {
        "id": "dvcjBQyBu4DR"
      },
      "source": [
        "While we cannot directly observe the true errors in the model, we can work with the residuals, which are the differences between the observed values and the predicted values from the model. If the model is well-fitted, the residuals should be randomly scattered around zero without any systematic patterns."
      ]
    },
    {
      "cell_type": "code",
      "execution_count": 109,
      "metadata": {
        "colab": {
          "base_uri": "https://localhost:8080/",
          "height": 480
        },
        "id": "hzaYpfiQs4pP",
        "outputId": "ae6dd6de-7901-46ee-8cd1-a759d295dde9"
      },
      "outputs": [
        {
          "data": {
            "image/png": "[encoded data removed]",
            "text/plain": [
              "<Figure size 640x480 with 1 Axes>"
            ]
          },
          "metadata": {},
          "output_type": "display_data"
        }
      ],
      "source": [
        "# Plotting the residuals\n",
        "plt.scatter(model_fitted.fittedvalues, model_fitted.resid, color = \"forestgreen\")\n",
        "plt.axhline(y=0, color='red', linestyle='--')\n",
        "plt.xlabel('Fitted Values')\n",
        "plt.ylabel('Residuals')\n",
        "plt.title('Residuals vs Fitted Values')\n",
        "plt.show()\n"
      ]
    },
    {
      "cell_type": "markdown",
      "metadata": {
        "id": "v_sSa8YrvcHl"
      },
      "source": [
        "In this plot, we don't see any discernible patterns. The residuals are thus randomly distributed around the horizontal line at zero, with no clear shape or trend. If there's a pattern, or if the residuals show a systematic deviation from zero, it could suggest issues such as model misspecification, non-linearity, or omitted variable bias."
      ]
    },
    {
      "cell_type": "markdown",
      "metadata": {
        "id": "smwiQmSek8gj"
      },
      "source": [
        "## Assumtion 3: Exogeneity"
      ]
    },
    {
      "cell_type": "code",
      "execution_count": 110,
      "metadata": {
        "colab": {
          "base_uri": "https://localhost:8080/"
        },
        "id": "BjJtMySLs5W2",
        "outputId": "64accbc9-ed6a-43ed-bd24-d416d49b3acf"
      },
      "outputs": [
        {
          "name": "stdout",
          "output_type": "stream",
          "text": [
            "Correlation between residuals and longitude: -0.0\n",
            "Correlation between residuals and latitude: 0.0\n",
            "Correlation between residuals and housing_median_age: -0.0\n",
            "Correlation between residuals and total_rooms: -0.0\n",
            "Correlation between residuals and population: -0.0\n",
            "Correlation between residuals and households: -0.0\n",
            "Correlation between residuals and median_income: -0.0\n",
            "Correlation between residuals and ocean_proximity_<1H OCEAN: 0.0\n",
            "Correlation between residuals and ocean_proximity_INLAND: 0.0\n",
            "Correlation between residuals and ocean_proximity_NEAR BAY: -0.0\n",
            "Correlation between residuals and ocean_proximity_NEAR OCEAN: 0.0\n"
          ]
        }
      ],
      "source": [
        "# Calculate the residuals\n",
        "residuals = model_fitted.resid\n",
        "\n",
        "# Check for correlation between residuals and each predictor\n",
        "for column in X_train.columns:\n",
        "    corr_coefficient = np.corrcoef(X_train[column], residuals)[0, 1]\n",
        "    print(f'Correlation between residuals and {column}: {np.round(corr_coefficient,2)}')\n"
      ]
    },
    {
      "cell_type": "markdown",
      "metadata": {
        "id": "s5H-F9D_wLKO"
      },
      "source": [
        "**Durbin-Wu-Hausman Test:**\n",
        "For a more formal statistical test, use the **Durbin-Wu-Hausman** test. This involves comparing your model with one that includes an instrumental variable. This test checks whether the coefficients of the model change significantly when the potentially endogenous variables are instrumented. This test is a more advanced, econometrical approach and requires identification of suitable instruments, which is not always straightforward."
      ]
    },
    {
      "cell_type": "markdown",
      "metadata": {
        "id": "VJDTW0W8lAnD"
      },
      "source": [
        "## Assumtion 4: Homoskedasticty"
      ]
    },
    {
      "cell_type": "code",
      "execution_count": 111,
      "metadata": {
        "colab": {
          "base_uri": "https://localhost:8080/",
          "height": 480
        },
        "id": "tX4zPXk6wusr",
        "outputId": "4db66c1d-be68-4eb8-f30b-aaf935db4f17"
      },
      "outputs": [
        {
          "data": {
            "image/png": "[encoded data removed]",
            "text/plain": [
              "<Figure size 640x480 with 1 Axes>"
            ]
          },
          "metadata": {},
          "output_type": "display_data"
        }
      ],
      "source": [
        "# Plotting the residuals\n",
        "plt.scatter(model_fitted.fittedvalues, model_fitted.resid, color = \"forestgreen\")\n",
        "plt.axhline(y=0, color='red', linestyle='--')\n",
        "plt.xlabel('Fitted Values')\n",
        "plt.ylabel('Residuals')\n",
        "plt.title('Residuals vs Fitted Values')\n",
        "plt.show()"
      ]
    },
    {
      "cell_type": "markdown",
      "metadata": {
        "id": "kbgyuRolxWbq"
      },
      "source": [
        "**Random Scatter:** If plot shows a random scatter of residuals around the horizontal line at zero, it supports the homoscedasticity assumption.\n",
        "\n",
        "**Pattern or Shape:** If residuals display a pattern (such as a curve) or form a funnel shape where the spread increases with fitted values, this would suggest heteroscedasticity, meaning variance of residuals changes with the level of the independent variables."
      ]
    },
    {
      "cell_type": "markdown",
      "metadata": {
        "id": "1qiQayKYxr-x"
      },
      "source": [
        "# Train/Test/Evaluation with Sklearn\n",
        "\n"
      ]
    },
    {
      "cell_type": "markdown",
      "metadata": {
        "id": "ZNQ6_d23zYwr"
      },
      "source": [
        "## Scaling the Data"
      ]
    },
    {
      "cell_type": "code",
      "execution_count": 112,
      "metadata": {
        "id": "fEfCSiQOzVCp"
      },
      "outputs": [],
      "source": [
        "from sklearn.preprocessing import StandardScaler\n",
        "# Initialize the StandardScaler\n",
        "scaler = StandardScaler()\n",
        "\n",
        "# Fit the scaler on the training data and transform it\n",
        "X_train_scaled = scaler.fit_transform(X_train)\n",
        "\n",
        "# Apply the same transformation to the test data\n",
        "X_test_scaled = scaler.transform(X_test)"
      ]
    },
    {
      "cell_type": "code",
      "execution_count": 113,
      "metadata": {
        "colab": {
          "base_uri": "https://localhost:8080/"
        },
        "id": "J3nUb3t_woTG",
        "outputId": "4678510f-e033-46cf-d3d2-17e5b36f7274"
      },
      "outputs": [
        {
          "name": "stdout",
          "output_type": "stream",
          "text": [
            "RMSE on Test Set: 59405.88869441674\n"
          ]
        }
      ],
      "source": [
        "from sklearn.linear_model import LinearRegression\n",
        "from sklearn.metrics import mean_squared_error\n",
        "from math import sqrt\n",
        "\n",
        "# Create and fit the model\n",
        "lr = LinearRegression()\n",
        "lr.fit(X_train_scaled, y_train)\n",
        "\n",
        "# Make predictions on the scaled test data\n",
        "y_pred = lr.predict(X_test_scaled)\n",
        "\n",
        "# Calculate MSE and RMSE\n",
        "mse = mean_squared_error(y_test, y_pred)\n",
        "rmse = sqrt(mse)\n",
        "\n",
        "# Output the performance metrics\n",
        "print(f'RMSE on Test Set: {rmse}')"
      ]
    },
    {
      "cell_type": "code",
      "execution_count": 114,
      "metadata": {
        "colab": {
          "base_uri": "https://localhost:8080/",
          "height": 545
        },
        "id": "AAYG8yMckgOF",
        "outputId": "ee212ca6-b65d-47d8-98d3-fc3d1a0ce66f"
      },
      "outputs": [
        {
          "name": "stdout",
          "output_type": "stream",
          "text": [
            "[[153414.2018804 ]\n",
            " [239312.04418031]\n",
            " [ 70054.78117497]\n",
            " ...\n",
            " [129935.7653883 ]\n",
            " [232846.31280863]\n",
            " [207120.21348536]]\n"
          ]
        },
        {
          "data": {
            "text/html": [
              "<div>\n",
              "<style scoped>\n",
              "    .dataframe tbody tr th:only-of-type {\n",
              "        vertical-align: middle;\n",
              "    }\n",
              "\n",
              "    .dataframe tbody tr th {\n",
              "        vertical-align: top;\n",
              "    }\n",
              "\n",
              "    .dataframe thead th {\n",
              "        text-align: right;\n",
              "    }\n",
              "</style>\n",
              "<table border=\"1\" class=\"dataframe\">\n",
              "  <thead>\n",
              "    <tr style=\"text-align: right;\">\n",
              "      <th></th>\n",
              "      <th>median_house_value</th>\n",
              "    </tr>\n",
              "  </thead>\n",
              "  <tbody>\n",
              "    <tr>\n",
              "      <th>7322</th>\n",
              "      <td>164400.0</td>\n",
              "    </tr>\n",
              "    <tr>\n",
              "      <th>465</th>\n",
              "      <td>196400.0</td>\n",
              "    </tr>\n",
              "    <tr>\n",
              "      <th>12768</th>\n",
              "      <td>65200.0</td>\n",
              "    </tr>\n",
              "    <tr>\n",
              "      <th>2617</th>\n",
              "      <td>73600.0</td>\n",
              "    </tr>\n",
              "    <tr>\n",
              "      <th>13351</th>\n",
              "      <td>195100.0</td>\n",
              "    </tr>\n",
              "    <tr>\n",
              "      <th>...</th>\n",
              "      <td>...</td>\n",
              "    </tr>\n",
              "    <tr>\n",
              "      <th>11691</th>\n",
              "      <td>217000.0</td>\n",
              "    </tr>\n",
              "    <tr>\n",
              "      <th>1454</th>\n",
              "      <td>229200.0</td>\n",
              "    </tr>\n",
              "    <tr>\n",
              "      <th>7360</th>\n",
              "      <td>142000.0</td>\n",
              "    </tr>\n",
              "    <tr>\n",
              "      <th>19118</th>\n",
              "      <td>200600.0</td>\n",
              "    </tr>\n",
              "    <tr>\n",
              "      <th>13084</th>\n",
              "      <td>129500.0</td>\n",
              "    </tr>\n",
              "  </tbody>\n",
              "</table>\n",
              "<p>3806 rows × 1 columns</p>\n",
              "</div>"
            ],
            "text/plain": [
              "       median_house_value\n",
              "7322             164400.0\n",
              "465              196400.0\n",
              "12768             65200.0\n",
              "2617              73600.0\n",
              "13351            195100.0\n",
              "...                   ...\n",
              "11691            217000.0\n",
              "1454             229200.0\n",
              "7360             142000.0\n",
              "19118            200600.0\n",
              "13084            129500.0\n",
              "\n",
              "[3806 rows x 1 columns]"
            ]
          },
          "execution_count": 114,
          "metadata": {},
          "output_type": "execute_result"
        }
      ],
      "source": [
        "print(y_pred)\n",
        "y_test"
      ]
    }
  ],
  "metadata": {
    "colab": {
      "provenance": []
    },
    "kernelspec": {
      "display_name": "Python 3",
      "name": "python3"
    },
    "language_info": {
      "codemirror_mode": {
        "name": "ipython",
        "version": 3
      },
      "file_extension": ".py",
      "mimetype": "text/x-python",
      "name": "python",
      "nbconvert_exporter": "python",
      "pygments_lexer": "ipython3",
      "version": "3.12.4"
    }
  },
  "nbformat": 4,
  "nbformat_minor": 0
}
