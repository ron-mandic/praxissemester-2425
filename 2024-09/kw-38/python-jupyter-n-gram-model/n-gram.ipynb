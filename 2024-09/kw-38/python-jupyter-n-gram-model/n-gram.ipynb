{
 "cells": [
  {
   "cell_type": "code",
   "execution_count": 1,
   "metadata": {},
   "outputs": [],
   "source": [
    "import re\n",
    "from lib.utils import load, preprocess"
   ]
  },
  {
   "cell_type": "code",
   "execution_count": 2,
   "metadata": {},
   "outputs": [],
   "source": [
    "NGRAM_LENGTH_MIN = 1 # uni-gram\n",
    "NGRAM_CONTEXT_WINDOW = 2\n",
    "\n",
    "END_TOKEN = \"</s>\"\n",
    "WITH_END_TOKEN = True"
   ]
  },
  {
   "cell_type": "markdown",
   "metadata": {},
   "source": [
    "## Preprocessing"
   ]
  },
  {
   "cell_type": "code",
   "execution_count": null,
   "metadata": {},
   "outputs": [],
   "source": [
    "list_str = load('./data/songs.json')\n",
    "list_str = [preprocess(str[\"row\"][\"text\"]) for str in list_str[\"rows\"] if str[\"row\"][\"text\"]]\n",
    "# Treat new lines as a word or not\n",
    "list_str = [str.replace(\"\\n\", f\" {END_TOKEN} \") if WITH_END_TOKEN else str for str in list_str]\n",
    "\n",
    "list_str"
   ]
  },
  {
   "cell_type": "markdown",
   "metadata": {},
   "source": [
    "## Intializations"
   ]
  },
  {
   "cell_type": "code",
   "execution_count": null,
   "metadata": {},
   "outputs": [],
   "source": [
    "# Split the lines into words and lowercase them\n",
    "list_list_words = [re.split(r'[\\s\\n]+', str.lower().strip()) for str in list_str]\n",
    "list_str_comp = [\"+\".join(list_words) for list_words in list_list_words]\n",
    "\n",
    "print(list_list_words[0])"
   ]
  },
  {
   "cell_type": "code",
   "execution_count": null,
   "metadata": {},
   "outputs": [],
   "source": [
    "lengths = [len(list_words) for list_words in list_list_words]\n",
    "lengths_sorted = sorted(lengths)\n",
    "\n",
    "# The biggest n-gram can only be the length of the smallest song\n",
    "NGRAM_LENGTH_MAX = lengths_sorted[0]\n",
    "\n",
    "print(min(lengths), max(lengths))\n",
    "print(NGRAM_LENGTH_MIN, NGRAM_LENGTH_MAX)"
   ]
  },
  {
   "cell_type": "markdown",
   "metadata": {},
   "source": [
    "## Dictionary"
   ]
  },
  {
   "cell_type": "code",
   "execution_count": null,
   "metadata": {},
   "outputs": [],
   "source": [
    "from lib.utils import get_dict, ask_dict\n",
    "\n",
    "dict_key_tuple = get_dict(list_list_words, NGRAM_CONTEXT_WINDOW)\n",
    "dict_key_tuple_answers = ask_dict(dict_key_tuple, \"i\")\n",
    "\n",
    "dict_key_tuple_answers"
   ]
  }
 ],
 "metadata": {
  "kernelspec": {
   "display_name": "n-gram",
   "language": "python",
   "name": "python3"
  },
  "language_info": {
   "codemirror_mode": {
    "name": "ipython",
    "version": 3
   },
   "file_extension": ".py",
   "mimetype": "text/x-python",
   "name": "python",
   "nbconvert_exporter": "python",
   "pygments_lexer": "ipython3",
   "version": "3.12.5"
  }
 },
 "nbformat": 4,
 "nbformat_minor": 2
}
